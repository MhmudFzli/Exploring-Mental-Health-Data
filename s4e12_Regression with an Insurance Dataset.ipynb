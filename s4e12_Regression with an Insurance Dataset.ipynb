{
 "cells": [
  {
   "cell_type": "code",
   "execution_count": null,
   "metadata": {
    "_cell_guid": "b1076dfc-b9ad-4769-8c92-a6c4dae69d19",
    "_uuid": "8f2839f25d086af736a60e9eeb907d3b93b6e0e5",
    "execution": {
     "iopub.execute_input": "2024-10-30T08:09:51.359643Z",
     "iopub.status.busy": "2024-10-30T08:09:51.359236Z",
     "iopub.status.idle": "2024-10-30T08:09:56.187286Z",
     "shell.execute_reply": "2024-10-30T08:09:56.186513Z",
     "shell.execute_reply.started": "2024-10-30T08:09:51.359601Z"
    },
    "trusted": true
   },
   "outputs": [],
   "source": [
    "import optuna\n",
    "from optuna.samplers import TPESampler\n",
    "import warnings\n",
    "\n",
    "import matplotlib.pyplot as plt\n",
    "import numpy as np\n",
    "import pandas as pd\n",
    "import seaborn as sns\n",
    "from catboost import CatBoostClassifier, CatBoostRegressor\n",
    "from lightgbm import LGBMClassifier\n",
    "from sklearn.compose import ColumnTransformer\n",
    "from sklearn.feature_selection import mutual_info_regression\n",
    "from sklearn.linear_model import Lasso, Ridge, RidgeCV\n",
    "from sklearn.metrics import (\n",
    "    accuracy_score,\n",
    "    f1_score,\n",
    "    make_scorer,\n",
    "    precision_score,\n",
    "    recall_score,\n",
    "    roc_auc_score,\n",
    ")\n",
    "from sklearn.model_selection import StratifiedKFold, cross_val_score, train_test_split\n",
    "from sklearn.pipeline import Pipeline\n",
    "from sklearn.preprocessing import OneHotEncoder, OrdinalEncoder, StandardScaler\n",
    "from xgboost import XGBClassifier\n",
    "\n",
    "warnings.filterwarnings(\"ignore\")"
   ]
  },
  {
   "cell_type": "code",
   "execution_count": 21,
   "metadata": {
    "execution": {
     "iopub.execute_input": "2024-10-30T08:09:56.199927Z",
     "iopub.status.busy": "2024-10-30T08:09:56.19959Z",
     "iopub.status.idle": "2024-10-30T08:09:56.204649Z",
     "shell.execute_reply": "2024-10-30T08:09:56.203845Z",
     "shell.execute_reply.started": "2024-10-30T08:09:56.199888Z"
    },
    "trusted": true
   },
   "outputs": [],
   "source": [
    "## Set these to TRUE if you want to tune the models again.\n",
    "\n",
    "RETUNE_CATBOOST = True\n",
    "RETUNE_LGBM = True\n",
    "RETUNE_LASSO = True"
   ]
  },
  {
   "cell_type": "markdown",
   "metadata": {},
   "source": [
    "# 1. Load Dataset"
   ]
  },
  {
   "cell_type": "code",
   "execution_count": 22,
   "metadata": {
    "execution": {
     "iopub.execute_input": "2024-10-30T08:09:56.207597Z",
     "iopub.status.busy": "2024-10-30T08:09:56.206952Z",
     "iopub.status.idle": "2024-10-30T08:09:56.513478Z",
     "shell.execute_reply": "2024-10-30T08:09:56.512157Z",
     "shell.execute_reply.started": "2024-10-30T08:09:56.207553Z"
    },
    "trusted": true
   },
   "outputs": [],
   "source": [
    "train_df = pd.read_csv(\n",
    "    \"D:/Freelancer Projects/Kaggle Comp/playground-series-s4e12/train.csv\"\n",
    ")\n",
    "\n",
    "original_df = pd.read_csv(\n",
    "    \"D:/Freelancer Projects/Kaggle Comp/playground-series-s4e12/Insurance Premium Prediction Dataset.csv\"\n",
    ")\n",
    "\n",
    "train = pd.concat([train_df, original_df], ignore_index=True)\n",
    "train = train.drop([\"id\"], axis=1)\n",
    "\n",
    "test = pd.read_csv(\n",
    "    \"D:/Freelancer Projects/Kaggle Comp/playground-series-s4e12/test.csv\"\n",
    ").drop(columns=\"id\")"
   ]
  },
  {
   "cell_type": "code",
   "execution_count": 6,
   "metadata": {
    "execution": {
     "iopub.execute_input": "2024-10-30T08:09:56.589585Z",
     "iopub.status.busy": "2024-10-30T08:09:56.589273Z",
     "iopub.status.idle": "2024-10-30T08:09:56.638697Z",
     "shell.execute_reply": "2024-10-30T08:09:56.63783Z",
     "shell.execute_reply.started": "2024-10-30T08:09:56.589553Z"
    },
    "trusted": true
   },
   "outputs": [
    {
     "name": "stdout",
     "output_type": "stream",
     "text": [
      "<class 'pandas.core.frame.DataFrame'>\n",
      "RangeIndex: 1478860 entries, 0 to 1478859\n",
      "Data columns (total 20 columns):\n",
      " #   Column                Non-Null Count    Dtype  \n",
      "---  ------                --------------    -----  \n",
      " 0   Age                   1455470 non-null  float64\n",
      " 1   Gender                1478860 non-null  object \n",
      " 2   Annual Income         1419956 non-null  float64\n",
      " 3   Marital Status        1455312 non-null  object \n",
      " 4   Number of Dependents  1341302 non-null  float64\n",
      " 5   Education Level       1478860 non-null  object \n",
      " 6   Occupation            1039497 non-null  object \n",
      " 7   Health Score          1394187 non-null  float64\n",
      " 8   Location              1478860 non-null  object \n",
      " 9   Policy Type           1478860 non-null  object \n",
      " 10  Previous Claims       1033543 non-null  float64\n",
      " 11  Vehicle Age           1478854 non-null  float64\n",
      " 12  Credit Score          1313092 non-null  float64\n",
      " 13  Insurance Duration    1478859 non-null  float64\n",
      " 14  Policy Start Date     1478860 non-null  object \n",
      " 15  Customer Feedback     1382687 non-null  object \n",
      " 16  Smoking Status        1478860 non-null  object \n",
      " 17  Exercise Frequency    1478860 non-null  object \n",
      " 18  Property Type         1478860 non-null  object \n",
      " 19  Premium Amount        1477019 non-null  float64\n",
      "dtypes: float64(9), object(11)\n",
      "memory usage: 225.7+ MB\n"
     ]
    }
   ],
   "source": [
    "train.info()"
   ]
  },
  {
   "cell_type": "code",
   "execution_count": 45,
   "metadata": {},
   "outputs": [
    {
     "name": "stdout",
     "output_type": "stream",
     "text": [
      "missings proportion:\n",
      " Age                      0.000000\n",
      "Gender                   0.000000\n",
      "Annual Income            3.983068\n",
      "Marital Status           1.592308\n",
      "Number of Dependents     9.301624\n",
      "Education Level          0.000000\n",
      "Occupation              29.709574\n",
      "Health Score             5.725559\n",
      "Location                 0.000000\n",
      "Policy Type              0.000000\n",
      "Previous Claims         30.112181\n",
      "Vehicle Age              0.000406\n",
      "Credit Score            11.209175\n",
      "Insurance Duration       0.000068\n",
      "Policy Start Date        0.000000\n",
      "Customer Feedback        6.503185\n",
      "Smoking Status           0.000000\n",
      "Exercise Frequency       0.000000\n",
      "Property Type            0.000000\n",
      "Premium Amount           0.000000\n",
      "dtype: float64\n"
     ]
    }
   ],
   "source": [
    "missing_values_prop = train.isnull().mean()\n",
    "a = missing_values_prop*100.0\n",
    "print(\"missings proportion:\\n\", a)"
   ]
  },
  {
   "cell_type": "code",
   "execution_count": 8,
   "metadata": {},
   "outputs": [
    {
     "name": "stdout",
     "output_type": "stream",
     "text": [
      "missings proportion:\n",
      " Age                      1.561125\n",
      "Gender                   0.000000\n",
      "Annual Income            3.732500\n",
      "Marital Status           1.542000\n",
      "Number of Dependents     9.141250\n",
      "Education Level          0.000000\n",
      "Occupation              29.890625\n",
      "Health Score             6.181125\n",
      "Location                 0.000000\n",
      "Policy Type              0.000000\n",
      "Previous Claims         30.350250\n",
      "Vehicle Age              0.000375\n",
      "Credit Score            11.431375\n",
      "Insurance Duration       0.000250\n",
      "Policy Start Date        0.000000\n",
      "Customer Feedback        6.534500\n",
      "Smoking Status           0.000000\n",
      "Exercise Frequency       0.000000\n",
      "Property Type            0.000000\n",
      "dtype: float64\n"
     ]
    }
   ],
   "source": [
    "missing_values_prop = test.isnull().mean()\n",
    "a = missing_values_prop*100.0\n",
    "print(\"missings proportion:\\n\", a)"
   ]
  },
  {
   "cell_type": "markdown",
   "metadata": {},
   "source": [
    "# 2. Inspect Features"
   ]
  },
  {
   "cell_type": "code",
   "execution_count": 38,
   "metadata": {},
   "outputs": [
    {
     "data": {
      "image/png": "[encoded data removed]",
      "text/plain": [
       "<Figure size 640x480 with 1 Axes>"
      ]
     },
     "metadata": {},
     "output_type": "display_data"
    }
   ],
   "source": [
    "# Plot a density plot\n",
    "sns.kdeplot(train['Premium Amount'], fill=True)\n",
    "\n",
    "# Add labels and title\n",
    "plt.xlabel('Premium Amount')\n",
    "plt.ylabel('Density')\n",
    "plt.title('Density Plot of Premium Amount:BEFORE')\n",
    "plt.show()"
   ]
  },
  {
   "cell_type": "code",
   "execution_count": 43,
   "metadata": {},
   "outputs": [
    {
     "data": {
      "image/png": "[encoded data removed]",
      "text/plain": [
       "<Figure size 640x480 with 1 Axes>"
      ]
     },
     "metadata": {},
     "output_type": "display_data"
    }
   ],
   "source": [
    "# Plot a density plot\n",
    "sns.kdeplot(train['Age'], fill=True)\n",
    "\n",
    "# Add labels and title\n",
    "plt.xlabel('Age')\n",
    "plt.ylabel('Density')\n",
    "plt.title('Density Plot of Age:BEFORE')\n",
    "plt.show()"
   ]
  },
  {
   "cell_type": "code",
   "execution_count": 7,
   "metadata": {},
   "outputs": [
    {
     "data": {
      "text/plain": [
       "Age\n",
       "53.0    32323\n",
       "61.0    32148\n",
       "39.0    31926\n",
       "43.0    31864\n",
       "57.0    31807\n",
       "64.0    31761\n",
       "62.0    31755\n",
       "33.0    31704\n",
       "46.0    31583\n",
       "47.0    31548\n",
       "34.0    31539\n",
       "44.0    31439\n",
       "31.0    31338\n",
       "58.0    31333\n",
       "56.0    31330\n",
       "32.0    31314\n",
       "54.0    31264\n",
       "38.0    31239\n",
       "22.0    31227\n",
       "35.0    31212\n",
       "36.0    31170\n",
       "55.0    31126\n",
       "45.0    31053\n",
       "59.0    30993\n",
       "51.0    30976\n",
       "49.0    30974\n",
       "37.0    30916\n",
       "20.0    30822\n",
       "50.0    30806\n",
       "40.0    30800\n",
       "21.0    30709\n",
       "26.0    30607\n",
       "30.0    30544\n",
       "48.0    30540\n",
       "19.0    30533\n",
       "29.0    30496\n",
       "24.0    30467\n",
       "42.0    30393\n",
       "60.0    30341\n",
       "18.0    30296\n",
       "28.0    30281\n",
       "52.0    30269\n",
       "63.0    30031\n",
       "27.0    30020\n",
       "25.0    29992\n",
       "41.0    29780\n",
       "23.0    28881\n",
       "Name: count, dtype: int64"
      ]
     },
     "metadata": {},
     "output_type": "display_data"
    }
   ],
   "source": [
    "with pd.option_context('display.max_rows', 200):\n",
    "    display(train['Age'].value_counts())"
   ]
  },
  {
   "cell_type": "code",
   "execution_count": 8,
   "metadata": {},
   "outputs": [
    {
     "data": {
      "text/plain": [
       "Gender\n",
       "Male      742325\n",
       "Female    736535\n",
       "Name: count, dtype: int64"
      ]
     },
     "metadata": {},
     "output_type": "display_data"
    }
   ],
   "source": [
    "with pd.option_context('display.max_rows', 200):\n",
    "    display(train['Gender'].value_counts())"
   ]
  },
  {
   "cell_type": "code",
   "execution_count": 9,
   "metadata": {},
   "outputs": [
    {
     "data": {
      "text/plain": [
       "Annual Income\n",
       "7073.0      1050\n",
       "16054.0     1031\n",
       "14094.0      926\n",
       "24897.0      923\n",
       "15983.0      896\n",
       "            ... \n",
       "121505.0       1\n",
       "25951.0        1\n",
       "68064.0        1\n",
       "112436.0       1\n",
       "66056.0        1\n",
       "Name: count, Length: 110780, dtype: int64"
      ]
     },
     "metadata": {},
     "output_type": "display_data"
    }
   ],
   "source": [
    "with pd.option_context('display.max_rows', 200):\n",
    "    display(train['Annual Income'].value_counts())"
   ]
  },
  {
   "cell_type": "code",
   "execution_count": 10,
   "metadata": {},
   "outputs": [
    {
     "data": {
      "text/plain": [
       "Marital Status\n",
       "Single      486888\n",
       "Married     485577\n",
       "Divorced    482847\n",
       "Name: count, dtype: int64"
      ]
     },
     "metadata": {},
     "output_type": "display_data"
    }
   ],
   "source": [
    "with pd.option_context('display.max_rows', 200):\n",
    "    display(train['Marital Status'].value_counts())"
   ]
  },
  {
   "cell_type": "code",
   "execution_count": 11,
   "metadata": {},
   "outputs": [
    {
     "data": {
      "text/plain": [
       "Number of Dependents\n",
       "3.0    271810\n",
       "4.0    270201\n",
       "0.0    268260\n",
       "2.0    265680\n",
       "1.0    265351\n",
       "Name: count, dtype: int64"
      ]
     },
     "metadata": {},
     "output_type": "display_data"
    }
   ],
   "source": [
    "with pd.option_context('display.max_rows', 200):\n",
    "    display(train['Number of Dependents'].value_counts())"
   ]
  },
  {
   "cell_type": "code",
   "execution_count": 12,
   "metadata": {},
   "outputs": [
    {
     "data": {
      "text/plain": [
       "Education Level\n",
       "Master's       373633\n",
       "PhD            373462\n",
       "Bachelor's     373164\n",
       "High School    358601\n",
       "Name: count, dtype: int64"
      ]
     },
     "metadata": {},
     "output_type": "display_data"
    }
   ],
   "source": [
    "with pd.option_context('display.max_rows', 200):\n",
    "    display(train['Education Level'].value_counts())"
   ]
  },
  {
   "cell_type": "code",
   "execution_count": 13,
   "metadata": {},
   "outputs": [
    {
     "data": {
      "text/plain": [
       "Occupation\n",
       "Employed         348649\n",
       "Self-Employed    348553\n",
       "Unemployed       342295\n",
       "Name: count, dtype: int64"
      ]
     },
     "metadata": {},
     "output_type": "display_data"
    }
   ],
   "source": [
    "with pd.option_context('display.max_rows', 200):\n",
    "    display(train['Occupation'].value_counts())"
   ]
  },
  {
   "cell_type": "code",
   "execution_count": 14,
   "metadata": {},
   "outputs": [
    {
     "data": {
      "text/plain": [
       "Health Score\n",
       "19.927241    129\n",
       "25.907650    125\n",
       "19.869701    120\n",
       "22.955402    105\n",
       "27.845006    104\n",
       "            ... \n",
       "25.066171      1\n",
       "7.908572       1\n",
       "32.235938      1\n",
       "33.966984      1\n",
       "25.962097      1\n",
       "Name: count, Length: 682443, dtype: int64"
      ]
     },
     "metadata": {},
     "output_type": "display_data"
    }
   ],
   "source": [
    "with pd.option_context('display.max_rows', 200):\n",
    "    display(train['Health Score'].value_counts())"
   ]
  },
  {
   "cell_type": "code",
   "execution_count": 15,
   "metadata": {},
   "outputs": [
    {
     "data": {
      "text/plain": [
       "Location\n",
       "Suburban    495024\n",
       "Rural       493606\n",
       "Urban       490230\n",
       "Name: count, dtype: int64"
      ]
     },
     "metadata": {},
     "output_type": "display_data"
    }
   ],
   "source": [
    "with pd.option_context('display.max_rows', 200):\n",
    "    display(train['Location'].value_counts())"
   ]
  },
  {
   "cell_type": "code",
   "execution_count": 16,
   "metadata": {},
   "outputs": [
    {
     "data": {
      "text/plain": [
       "Policy Type\n",
       "Premium          495144\n",
       "Comprehensive    492079\n",
       "Basic            491637\n",
       "Name: count, dtype: int64"
      ]
     },
     "metadata": {},
     "output_type": "display_data"
    }
   ],
   "source": [
    "with pd.option_context('display.max_rows', 200):\n",
    "    display(train['Policy Type'].value_counts())"
   ]
  },
  {
   "cell_type": "code",
   "execution_count": 17,
   "metadata": {},
   "outputs": [
    {
     "data": {
      "text/plain": [
       "Previous Claims\n",
       "0.0    378226\n",
       "1.0    373736\n",
       "2.0    203644\n",
       "3.0     61076\n",
       "4.0     13731\n",
       "5.0      2643\n",
       "6.0       396\n",
       "7.0        79\n",
       "8.0         9\n",
       "9.0         3\n",
       "Name: count, dtype: int64"
      ]
     },
     "metadata": {},
     "output_type": "display_data"
    }
   ],
   "source": [
    "with pd.option_context('display.max_rows', 200):\n",
    "    display(train['Previous Claims'].value_counts())"
   ]
  },
  {
   "cell_type": "code",
   "execution_count": 18,
   "metadata": {},
   "outputs": [
    {
     "data": {
      "text/plain": [
       "Vehicle Age\n",
       "17.0    76679\n",
       "11.0    75623\n",
       "0.0     75502\n",
       "18.0    75408\n",
       "10.0    75257\n",
       "14.0    74822\n",
       "15.0    74734\n",
       "12.0    74674\n",
       "19.0    74506\n",
       "16.0    74399\n",
       "2.0     73848\n",
       "9.0     73688\n",
       "7.0     73682\n",
       "5.0     73475\n",
       "3.0     72946\n",
       "13.0    72434\n",
       "8.0     72246\n",
       "4.0     71990\n",
       "6.0     71867\n",
       "1.0     71074\n",
       "Name: count, dtype: int64"
      ]
     },
     "metadata": {},
     "output_type": "display_data"
    }
   ],
   "source": [
    "with pd.option_context('display.max_rows', 200):\n",
    "    display(train['Vehicle Age'].value_counts())"
   ]
  },
  {
   "cell_type": "code",
   "execution_count": 19,
   "metadata": {},
   "outputs": [
    {
     "data": {
      "text/plain": [
       "Credit Score\n",
       "434.0    4750\n",
       "431.0    4712\n",
       "757.0    4522\n",
       "713.0    4480\n",
       "437.0    4354\n",
       "         ... \n",
       "660.0     908\n",
       "560.0     858\n",
       "610.0     801\n",
       "606.0     797\n",
       "700.0     790\n",
       "Name: count, Length: 550, dtype: int64"
      ]
     },
     "metadata": {},
     "output_type": "display_data"
    }
   ],
   "source": [
    "with pd.option_context('display.max_rows', 200):\n",
    "    display(train['Credit Score'].value_counts())"
   ]
  },
  {
   "cell_type": "code",
   "execution_count": 23,
   "metadata": {},
   "outputs": [
    {
     "data": {
      "text/plain": [
       "Insurance Duration\n",
       "9.0    168936\n",
       "1.0    165765\n",
       "8.0    164840\n",
       "7.0    164709\n",
       "5.0    163408\n",
       "4.0    163029\n",
       "3.0    163027\n",
       "6.0    162981\n",
       "2.0    162164\n",
       "Name: count, dtype: int64"
      ]
     },
     "metadata": {},
     "output_type": "display_data"
    }
   ],
   "source": [
    "with pd.option_context('display.max_rows', 200):\n",
    "    display(train['Insurance Duration'].value_counts())"
   ]
  },
  {
   "cell_type": "code",
   "execution_count": 24,
   "metadata": {},
   "outputs": [
    {
     "data": {
      "text/plain": [
       "Policy Start Date\n",
       "2020-02-08 15:21:39.134960    155\n",
       "2023-08-13 15:21:39.155231    151\n",
       "2022-08-30 15:21:39.134960    150\n",
       "2022-02-02 15:21:39.134960    149\n",
       "2024-02-19 15:21:39.134960    131\n",
       "                             ... \n",
       "2022-08-15 15:21:39.163910      1\n",
       "2019-10-14 15:21:39.163910      1\n",
       "2022-12-23 15:21:39.163910      1\n",
       "2022-02-23 15:21:39.163910      1\n",
       "2024-01-14 15:21:39.291118      1\n",
       "Name: count, Length: 181607, dtype: int64"
      ]
     },
     "metadata": {},
     "output_type": "display_data"
    }
   ],
   "source": [
    "with pd.option_context('display.max_rows', 200):\n",
    "    display(train['Policy Start Date'].value_counts())"
   ]
  },
  {
   "cell_type": "code",
   "execution_count": 25,
   "metadata": {},
   "outputs": [
    {
     "data": {
      "text/plain": [
       "Customer Feedback\n",
       "Average    464811\n",
       "Poor       462390\n",
       "Good       455486\n",
       "Name: count, dtype: int64"
      ]
     },
     "metadata": {},
     "output_type": "display_data"
    }
   ],
   "source": [
    "with pd.option_context('display.max_rows', 200):\n",
    "    display(train['Customer Feedback'].value_counts())"
   ]
  },
  {
   "cell_type": "code",
   "execution_count": 26,
   "metadata": {},
   "outputs": [
    {
     "data": {
      "text/plain": [
       "Smoking Status\n",
       "Yes    741508\n",
       "No     737352\n",
       "Name: count, dtype: int64"
      ]
     },
     "metadata": {},
     "output_type": "display_data"
    }
   ],
   "source": [
    "with pd.option_context('display.max_rows', 200):\n",
    "    display(train['Smoking Status'].value_counts())"
   ]
  },
  {
   "cell_type": "code",
   "execution_count": 27,
   "metadata": {},
   "outputs": [
    {
     "data": {
      "text/plain": [
       "Exercise Frequency\n",
       "Weekly     376417\n",
       "Monthly    369232\n",
       "Rarely     369226\n",
       "Daily      363985\n",
       "Name: count, dtype: int64"
      ]
     },
     "metadata": {},
     "output_type": "display_data"
    }
   ],
   "source": [
    "with pd.option_context('display.max_rows', 200):\n",
    "    display(train['Exercise Frequency'].value_counts())"
   ]
  },
  {
   "cell_type": "code",
   "execution_count": 30,
   "metadata": {},
   "outputs": [
    {
     "data": {
      "text/plain": [
       "Property Type\n",
       "House        493577\n",
       "Apartment    492857\n",
       "Condo        492426\n",
       "Name: count, dtype: int64"
      ]
     },
     "metadata": {},
     "output_type": "display_data"
    }
   ],
   "source": [
    "with pd.option_context('display.max_rows', 200):\n",
    "    display(train['Property Type'].value_counts())"
   ]
  },
  {
   "cell_type": "markdown",
   "metadata": {},
   "source": [
    "## Heatmap"
   ]
  },
  {
   "cell_type": "code",
   "execution_count": 36,
   "metadata": {},
   "outputs": [
    {
     "data": {
      "image/png": "[encoded data removed]",
      "text/plain": [
       "<Figure size 800x400 with 2 Axes>"
      ]
     },
     "metadata": {},
     "output_type": "display_data"
    }
   ],
   "source": [
    "def plot_feature_target_correlation(df, target_column):\n",
    "    # Select only numerical columns\n",
    "    numeric_df = df.select_dtypes(include=[\"number\"])\n",
    "\n",
    "    # Ensure the target column is included in the filtered DataFrame\n",
    "    if target_column not in numeric_df.columns:\n",
    "        raise ValueError(f\"The target column '{target_column}' is not numeric.\")\n",
    "\n",
    "    # Calculate correlation matrix\n",
    "    correlation_matrix = numeric_df.corr()\n",
    "\n",
    "    # Extract correlations of features with the target column\n",
    "    target_correlation = correlation_matrix[[target_column]].drop(target_column)  # Exclude the target itself\n",
    "\n",
    "    # Create a heatmap\n",
    "    plt.figure(figsize=(8, len(target_correlation) * 0.5))\n",
    "    sns.heatmap(\n",
    "        target_correlation,\n",
    "        annot=True,\n",
    "        cmap=\"coolwarm\",\n",
    "        cbar=True,\n",
    "        fmt=\".2f\",\n",
    "        linewidths=0.5,\n",
    "        linecolor=\"gray\",\n",
    "    )\n",
    "    plt.title(f\"Correlation of Features with {target_column}\")\n",
    "    plt.show()\n",
    "\n",
    "# Example usage\n",
    "plot_feature_target_correlation(train, \"Premium Amount\")"
   ]
  },
  {
   "cell_type": "markdown",
   "metadata": {},
   "source": [
    "# 3. Preprocessing"
   ]
  },
  {
   "cell_type": "markdown",
   "metadata": {},
   "source": [
    "## Missing Values"
   ]
  },
  {
   "cell_type": "code",
   "execution_count": 39,
   "metadata": {},
   "outputs": [],
   "source": [
    "train['Premium Amount'].fillna(600, inplace=True)"
   ]
  },
  {
   "cell_type": "code",
   "execution_count": 44,
   "metadata": {},
   "outputs": [],
   "source": [
    "# Count missing values\n",
    "missing_count = train[\"Age\"].isna().sum()\n",
    "\n",
    "# Generate random values for the missing entries\n",
    "random_values = np.random.randint(19, 63, size=missing_count)\n",
    "\n",
    "# Fill missing values\n",
    "train[\"Age\"] = train[\"Age\"].fillna(pd.Series(random_values, index=train.index[train[\"Age\"].isna()]))\n"
   ]
  },
  {
   "cell_type": "code",
   "execution_count": 6,
   "metadata": {},
   "outputs": [
    {
     "name": "stdout",
     "output_type": "stream",
     "text": [
      "2.0\n"
     ]
    }
   ],
   "source": [
    "# Step 1: Calculate the mode of the column\n",
    "mode_value = train['Financial Stress'].mode()[0]\n",
    "print(mode_value)\n",
    "\n",
    "# Step 2: Impute missing values with the mode\n",
    "train['Financial Stress'].fillna(mode_value, inplace=True)"
   ]
  },
  {
   "cell_type": "code",
   "execution_count": 7,
   "metadata": {},
   "outputs": [],
   "source": [
    "train['Profession'].fillna('Student', inplace=True)\n",
    "train = train.drop(columns='Working Professional or Student')\n",
    "\n",
    "test['Profession'].fillna('Student', inplace=True)\n",
    "test = test.drop(columns='Working Professional or Student')"
   ]
  },
  {
   "cell_type": "code",
   "execution_count": 8,
   "metadata": {},
   "outputs": [],
   "source": [
    "train['Work Pressure'] = train['Work Pressure'].fillna(train['Academic Pressure'])\n",
    "train.rename(columns={'Work Pressure': 'Academic/Work Pressure'}, inplace=True)\n",
    "train = train.drop(columns='Academic Pressure')\n",
    "\n",
    "test['Work Pressure'] = test['Work Pressure'].fillna(test['Academic Pressure'])\n",
    "test.rename(columns={'Work Pressure': 'Academic/Work Pressure'}, inplace=True)\n",
    "test = test.drop(columns='Academic Pressure')"
   ]
  },
  {
   "cell_type": "code",
   "execution_count": 9,
   "metadata": {},
   "outputs": [
    {
     "name": "stdout",
     "output_type": "stream",
     "text": [
      "3.0\n",
      "3.0\n"
     ]
    }
   ],
   "source": [
    "# Step 1: Calculate the mode of the column\n",
    "mode_value = train['Academic/Work Pressure'].mode()[0]\n",
    "print(mode_value)\n",
    "\n",
    "# Step 2: Impute missing values with the mode\n",
    "train['Academic/Work Pressure'].fillna(mode_value, inplace=True)\n",
    "\n",
    "# Step 1: Calculate the mode of the column\n",
    "mode_value = test['Academic/Work Pressure'].mode()[0]\n",
    "print(mode_value)\n",
    "\n",
    "# Step 2: Impute missing values with the mode\n",
    "test['Academic/Work Pressure'].fillna(mode_value, inplace=True)"
   ]
  },
  {
   "cell_type": "code",
   "execution_count": 10,
   "metadata": {},
   "outputs": [],
   "source": [
    "train['CGPA'].fillna(0, inplace=True)\n",
    "test['CGPA'].fillna(0, inplace=True)"
   ]
  },
  {
   "cell_type": "code",
   "execution_count": 11,
   "metadata": {},
   "outputs": [],
   "source": [
    "train['Job Satisfaction'] = train['Job Satisfaction'].fillna(train['Study Satisfaction'])\n",
    "train.rename(columns={'Job Satisfaction': 'Study/Job Satisfaction'}, inplace=True)\n",
    "train = train.drop(columns='Study Satisfaction')\n",
    "\n",
    "test['Job Satisfaction'] = test['Job Satisfaction'].fillna(test['Study Satisfaction'])\n",
    "test.rename(columns={'Job Satisfaction': 'Study/Job Satisfaction'}, inplace=True)\n",
    "test = test.drop(columns='Study Satisfaction')"
   ]
  },
  {
   "cell_type": "code",
   "execution_count": 12,
   "metadata": {},
   "outputs": [
    {
     "name": "stdout",
     "output_type": "stream",
     "text": [
      "2.0\n",
      "2.0\n"
     ]
    }
   ],
   "source": [
    "mode_value = train['Study/Job Satisfaction'].mode()[0]\n",
    "print(mode_value)\n",
    "\n",
    "# Step 2: Impute missing values with the mode\n",
    "train['Study/Job Satisfaction'].fillna(mode_value, inplace=True)\n",
    "\n",
    "mode_value = test['Study/Job Satisfaction'].mode()[0]\n",
    "print(mode_value)\n",
    "\n",
    "# Step 2: Impute missing values with the mode\n",
    "test['Study/Job Satisfaction'].fillna(mode_value, inplace=True)"
   ]
  },
  {
   "cell_type": "markdown",
   "metadata": {},
   "source": [
    "# 4. Feature Engineering"
   ]
  },
  {
   "cell_type": "code",
   "execution_count": 13,
   "metadata": {
    "execution": {
     "iopub.execute_input": "2024-10-29T16:45:02.725155Z",
     "iopub.status.busy": "2024-10-29T16:45:02.724792Z",
     "iopub.status.idle": "2024-10-29T16:45:02.739087Z",
     "shell.execute_reply": "2024-10-29T16:45:02.738008Z",
     "shell.execute_reply.started": "2024-10-29T16:45:02.72512Z"
    },
    "trusted": true
   },
   "outputs": [],
   "source": [
    "def add_features(df):\n",
    "    df2 = df.copy()\n",
    "\n",
    "    df2[\"Age\"] = df2[\"Age\"].astype(\"int\")\n",
    "    df2[\"Academic/Work Pressure\"] = df2[\"Academic/Work Pressure\"].astype(\"int\")\n",
    "    df2[\"Study/Job Satisfaction\"] = df2[\"Study/Job Satisfaction\"].astype(\"int\")\n",
    "    df2[\"Work/Study Hours\"] = df2[\"Work/Study Hours\"].astype(\"int\")\n",
    "    df2[\"Financial Stress\"] = df2[\"Financial Stress\"].astype(\"int\")\n",
    "    \n",
    "    df2[\"Age_bin\"] = pd.qcut(df2[\"Age\"], 5, labels=False)\n",
    "    df2[\"satisfaction_by_pressure\"] = df2[\"Academic/Work Pressure\"] / df2[\"Study/Job Satisfaction\"]\n",
    "    df2[\"age_work_satisfaction\"] = df2[\"Age\"] / df2[\"Study/Job Satisfaction\"]\n",
    "    \n",
    "\n",
    "    return df2"
   ]
  },
  {
   "cell_type": "code",
   "execution_count": 14,
   "metadata": {
    "execution": {
     "iopub.execute_input": "2024-10-29T17:17:03.152504Z",
     "iopub.status.busy": "2024-10-29T17:17:03.152104Z",
     "iopub.status.idle": "2024-10-29T17:17:03.381546Z",
     "shell.execute_reply": "2024-10-29T17:17:03.380511Z",
     "shell.execute_reply.started": "2024-10-29T17:17:03.152467Z"
    },
    "trusted": true
   },
   "outputs": [],
   "source": [
    "train_processed = add_features(train)\n",
    "test_processed = add_features(test)"
   ]
  },
  {
   "cell_type": "markdown",
   "metadata": {},
   "source": [
    "# 5. Catboost"
   ]
  },
  {
   "cell_type": "code",
   "execution_count": 15,
   "metadata": {
    "execution": {
     "iopub.execute_input": "2024-10-29T16:45:05.930955Z",
     "iopub.status.busy": "2024-10-29T16:45:05.930527Z",
     "iopub.status.idle": "2024-10-29T16:45:05.936949Z",
     "shell.execute_reply": "2024-10-29T16:45:05.935985Z",
     "shell.execute_reply.started": "2024-10-29T16:45:05.930906Z"
    },
    "trusted": true
   },
   "outputs": [],
   "source": [
    "preds_train, preds_test = pd.DataFrame(), pd.DataFrame()"
   ]
  },
  {
   "cell_type": "code",
   "execution_count": 16,
   "metadata": {
    "execution": {
     "iopub.execute_input": "2024-10-29T17:17:51.026907Z",
     "iopub.status.busy": "2024-10-29T17:17:51.026494Z",
     "iopub.status.idle": "2024-10-29T17:17:51.046444Z",
     "shell.execute_reply": "2024-10-29T17:17:51.045687Z",
     "shell.execute_reply.started": "2024-10-29T17:17:51.026856Z"
    },
    "trusted": true
   },
   "outputs": [],
   "source": [
    "X_train = train_processed.drop(columns=[\"Depression\"])\n",
    "y_train = train_processed.Depression"
   ]
  },
  {
   "cell_type": "markdown",
   "metadata": {},
   "source": [
    "#### 5.1 Encoding Categorical Columns for CatBoost"
   ]
  },
  {
   "cell_type": "code",
   "execution_count": 17,
   "metadata": {
    "execution": {
     "iopub.execute_input": "2024-10-29T17:17:53.612324Z",
     "iopub.status.busy": "2024-10-29T17:17:53.611946Z",
     "iopub.status.idle": "2024-10-29T17:17:56.454979Z",
     "shell.execute_reply": "2024-10-29T17:17:56.454012Z",
     "shell.execute_reply.started": "2024-10-29T17:17:53.612288Z"
    },
    "trusted": true
   },
   "outputs": [],
   "source": [
    "X_train = X_train.astype(\"string\").astype(\"category\")\n",
    "df_test_catboost = test_processed.astype(\"string\").astype(\"category\")"
   ]
  },
  {
   "cell_type": "code",
   "execution_count": 18,
   "metadata": {
    "execution": {
     "iopub.execute_input": "2024-10-29T17:17:59.608238Z",
     "iopub.status.busy": "2024-10-29T17:17:59.607743Z",
     "iopub.status.idle": "2024-10-29T17:17:59.614096Z",
     "shell.execute_reply": "2024-10-29T17:17:59.613129Z",
     "shell.execute_reply.started": "2024-10-29T17:17:59.608189Z"
    },
    "trusted": true
   },
   "outputs": [
    {
     "name": "stdout",
     "output_type": "stream",
     "text": [
      "['Name', 'Gender', 'Age', 'City', 'Profession', 'Academic/Work Pressure', 'CGPA', 'Study/Job Satisfaction', 'Sleep Duration', 'Dietary Habits', 'Degree', 'Have you ever had suicidal thoughts ?', 'Work/Study Hours', 'Financial Stress', 'Family History of Mental Illness', 'Age_bin', 'satisfaction_by_pressure', 'age_work_satisfaction']\n"
     ]
    }
   ],
   "source": [
    "cat_cols = X_train.columns[X_train.dtypes == \"category\"].tolist()\n",
    "print(cat_cols)"
   ]
  },
  {
   "cell_type": "markdown",
   "metadata": {},
   "source": [
    "#### 5.2 Catboost Hyperparameter Tuning with Optuna"
   ]
  },
  {
   "cell_type": "code",
   "execution_count": 19,
   "metadata": {
    "execution": {
     "iopub.execute_input": "2024-10-29T16:45:05.962402Z",
     "iopub.status.busy": "2024-10-29T16:45:05.962094Z",
     "iopub.status.idle": "2024-10-29T16:45:05.97497Z",
     "shell.execute_reply": "2024-10-29T16:45:05.974027Z",
     "shell.execute_reply.started": "2024-10-29T16:45:05.962371Z"
    },
    "trusted": true
   },
   "outputs": [],
   "source": [
    "def catboost_objective(trial):\n",
    "    params = {\n",
    "        \"iterations\": trial.suggest_int(\"iterations\", 500, 5000),\n",
    "        \"learning_rate\": trial.suggest_float(\"learning_rate\", 0.01, 0.3),\n",
    "        \"depth\": trial.suggest_int(\"depth\", 3, 10),\n",
    "        \"l2_leaf_reg\": trial.suggest_float(\"l2_leaf_reg\", 0, 5),\n",
    "        \"border_count\": trial.suggest_int(\"border_count\", 32, 255),\n",
    "        \"random_strength\": trial.suggest_float(\"random_strength\", 0, 2),\n",
    "        \"bagging_temperature\": trial.suggest_float(\"bagging_temperature\", 0, 5),\n",
    "        \"auto_class_weights\": trial.suggest_categorical(\n",
    "            \"auto_class_weights\", [\"Balanced\", None]\n",
    "        ),\n",
    "    }\n",
    "\n",
    "    cv = StratifiedKFold(n_splits=5, shuffle=True, random_state=42)\n",
    "    accuracy_scores = []  # To store accuracy scores for each fold\n",
    "    for train_idx, val_idx in cv.split(X_train, y_train):\n",
    "        X_train_fold, X_val_fold = X_train.iloc[train_idx], X_train.iloc[val_idx]\n",
    "        y_train_fold, y_val_fold = y_train.iloc[train_idx], y_train.iloc[val_idx]\n",
    "\n",
    "        # creating LightGBM classifier with suggested hyperparameters\n",
    "        model = CatBoostClassifier(\n",
    "            **params,\n",
    "            random_seed=42,\n",
    "            loss_function=\"Logloss\",\n",
    "            cat_features=cat_cols,\n",
    "            task_type=\"GPU\",\n",
    "            thread_count=-1,\n",
    "            eval_metric=\"Accuracy\",  # Set evaluation metric to Accuracy\n",
    "        )\n",
    "        model.fit(\n",
    "            X_train_fold,\n",
    "            y_train_fold,\n",
    "            eval_set=(X_val_fold, y_val_fold),\n",
    "            early_stopping_rounds=150,\n",
    "            verbose=False,\n",
    "        )\n",
    "        # Predict labels\n",
    "        y_pred = model.predict(X_val_fold)\n",
    "        acc = accuracy_score(y_val_fold, y_pred)  # Calculate accuracy\n",
    "        accuracy_scores.append(acc)\n",
    "\n",
    "    print(f\"Trial {trial.number}: {accuracy_scores} , mean : {np.mean(accuracy_scores)}\")\n",
    "    return np.mean(accuracy_scores)\n"
   ]
  },
  {
   "cell_type": "code",
   "execution_count": 25,
   "metadata": {
    "execution": {
     "iopub.execute_input": "2024-10-29T18:53:12.139358Z",
     "iopub.status.busy": "2024-10-29T18:53:12.13847Z",
     "iopub.status.idle": "2024-10-29T18:53:12.14578Z",
     "shell.execute_reply": "2024-10-29T18:53:12.144894Z",
     "shell.execute_reply.started": "2024-10-29T18:53:12.139312Z"
    },
    "trusted": true
   },
   "outputs": [],
   "source": [
    "## I have already optimized the hyperparameters. To run the tuning again, set RETUNE_HYPERPARAMETERS to True.\n",
    "\n",
    "if RETUNE_CATBOOST:\n",
    "    catboost_study = optuna.create_study(\n",
    "        direction=\"maximize\",\n",
    "        sampler=TPESampler(n_startup_trials=25, seed=42, multivariate=True),\n",
    "    )\n",
    "    catboost_study.optimize(catboost_objective, n_trials=100)\n",
    "\n",
    "    catboost_combined_data_best_params = catboost_study.best_params\n",
    "\n",
    "else:\n",
    "    ## optimal hyperparameters\n",
    "    catboost_combined_data_best_params = {\n",
    "        \"iterations\": 3400,\n",
    "        \"learning_rate\": 0.23182266111642433,\n",
    "        \"depth\": 3,\n",
    "        \"l2_leaf_reg\": 2.8517407656681266,\n",
    "        \"border_count\": 88,\n",
    "        \"random_strength\": 0.07663485681876864,\n",
    "        \"bagging_temperature\": 0.6270119414641275,\n",
    "        \"auto_class_weights\": None,\n",
    "    }\n",
    "    \n",
    "    cat_params = {\n",
    "        'iterations': 715,\n",
    "        'learning_rate': 0.05009420761428966,\n",
    "        'colsample_bylevel': 0.5859169200239407,\n",
    "        'subsample': 0.7705184727295318,\n",
    "        'min_data_in_leaf': 30,\n",
    "        'depth': 7,\n",
    "        'l2_leaf_reg': 0.004379496536587387,\n",
    "        'random_strength': 0.4519161767798322\n",
    "    }\n"
   ]
  },
  {
   "cell_type": "code",
   "execution_count": 21,
   "metadata": {},
   "outputs": [
    {
     "name": "stdout",
     "output_type": "stream",
     "text": [
      "{'iterations': 3400, 'learning_rate': 0.23182266111642433, 'depth': 3, 'l2_leaf_reg': 2.8517407656681266, 'border_count': 88, 'random_strength': 0.07663485681876864, 'bagging_temperature': 0.6270119414641275, 'auto_class_weights': None}\n"
     ]
    }
   ],
   "source": [
    "print(catboost_combined_data_best_params)"
   ]
  },
  {
   "cell_type": "code",
   "execution_count": 22,
   "metadata": {},
   "outputs": [
    {
     "name": "stdout",
     "output_type": "stream",
     "text": [
      "Categorical columns: ['Name', 'Gender', 'Age', 'City', 'Profession', 'Academic/Work Pressure', 'CGPA', 'Study/Job Satisfaction', 'Sleep Duration', 'Dietary Habits', 'Degree', 'Have you ever had suicidal thoughts ?', 'Work/Study Hours', 'Financial Stress', 'Family History of Mental Illness', 'Age_bin', 'satisfaction_by_pressure', 'age_work_satisfaction']\n"
     ]
    }
   ],
   "source": [
    "# Ensure all categorical columns are in cat_features\n",
    "cat_cols = X_train.columns[X_train.dtypes == \"category\"].tolist()\n",
    "print(f\"Categorical columns: {cat_cols}\")"
   ]
  },
  {
   "cell_type": "code",
   "execution_count": 27,
   "metadata": {
    "execution": {
     "iopub.execute_input": "2024-10-29T18:24:44.80718Z",
     "iopub.status.busy": "2024-10-29T18:24:44.806796Z",
     "iopub.status.idle": "2024-10-29T18:24:46.046531Z",
     "shell.execute_reply": "2024-10-29T18:24:46.044659Z",
     "shell.execute_reply.started": "2024-10-29T18:24:44.807147Z"
    },
    "scrolled": true,
    "trusted": true
   },
   "outputs": [
    {
     "name": "stdout",
     "output_type": "stream",
     "text": [
      "Scores: [0.9412955465587044, 0.9390248158877527, 0.9423056786848627, 0.9396879690063175, 0.9407699556734495], mean: 0.9406167931622174\n"
     ]
    }
   ],
   "source": [
    "## using stratified K-Fold Cross Validation because the dataset is imbalanced.\n",
    "\n",
    "skf = StratifiedKFold(n_splits=5, shuffle=True, random_state=42)\n",
    "accuracy_scores = []\n",
    "oof_preds = np.zeros(len(y_train))\n",
    "test_preds = np.zeros(len(test))\n",
    "\n",
    "catboost_model_final = CatBoostClassifier(\n",
    "    **cat_params,\n",
    "    random_seed=42,\n",
    "    loss_function=\"Logloss\",\n",
    "    cat_features=cat_cols,\n",
    "    #task_type=\"GPU\",\n",
    "    metric_period=1,\n",
    "    eval_metric=\"Accuracy\",  # Set evaluation metric to Accuracy\n",
    "    verbose=False,\n",
    ")\n",
    "\n",
    "for train_index, test_index in skf.split(X_train, y_train):\n",
    "    X_train_fold, X_test_fold = X_train.iloc[train_index], X_train.iloc[test_index]\n",
    "    y_train_fold, y_test_fold = y_train.iloc[train_index], y_train.iloc[test_index]\n",
    "\n",
    "    catboost_model_final.fit(\n",
    "        X_train_fold,\n",
    "        y_train_fold,\n",
    "        eval_set=(X_test_fold, y_test_fold),\n",
    "        early_stopping_rounds=150,\n",
    "    )\n",
    "    # Predict labels for accuracy computation\n",
    "    y_pred = catboost_model_final.predict(X_test_fold)\n",
    "    acc = accuracy_score(y_test_fold, y_pred)\n",
    "    accuracy_scores.append(acc)\n",
    "\n",
    "    oof_preds[test_index] = y_pred  # Store out-of-fold predictions\n",
    "    test_preds += (catboost_model_final.predict(df_test_catboost) / skf.get_n_splits())\n",
    "\n",
    "preds_train[\"catboost_combined_data\"] = oof_preds\n",
    "preds_test[\"catboost_combined_data\"] = test_preds\n",
    "\n",
    "print(f\"Scores: {accuracy_scores}, mean: {np.mean(accuracy_scores)}\")"
   ]
  },
  {
   "cell_type": "markdown",
   "metadata": {},
   "source": [
    "# 6. LightGBM"
   ]
  },
  {
   "cell_type": "code",
   "execution_count": 75,
   "metadata": {
    "execution": {
     "iopub.execute_input": "2024-10-29T17:19:06.612549Z",
     "iopub.status.busy": "2024-10-29T17:19:06.611692Z",
     "iopub.status.idle": "2024-10-29T17:19:06.634919Z",
     "shell.execute_reply": "2024-10-29T17:19:06.63416Z",
     "shell.execute_reply.started": "2024-10-29T17:19:06.61251Z"
    },
    "trusted": true
   },
   "outputs": [],
   "source": [
    "X_train = train_processed.drop(columns=[\"Depression\"])\n",
    "y_train = train_processed.Depression"
   ]
  },
  {
   "cell_type": "markdown",
   "metadata": {},
   "source": [
    "#### 6.1 Encoding Categorical Columns for LGBM"
   ]
  },
  {
   "cell_type": "code",
   "execution_count": 76,
   "metadata": {},
   "outputs": [],
   "source": [
    "one_hot_columns = [\n",
    "    \"Name\",\n",
    "    \"Gender\",\n",
    "    \"City\",\n",
    "    \"Profession\",\n",
    "    \"Sleep Duration\",\n",
    "    \"Dietary Habits\",\n",
    "    \"Degree\",\n",
    "    \"Have you ever had suicidal thoughts ?\",\n",
    "    \"Family History of Mental Illness\",\n",
    "]\n",
    "\n",
    "ordinal_columns = [\n",
    "    \"Academic/Work Pressure\",\n",
    "     \"Study/Job Satisfaction\",\n",
    "]\n",
    "\n",
    "ct = ColumnTransformer(\n",
    "    [\n",
    "        (\n",
    "            \"onehot\",\n",
    "            OneHotEncoder(handle_unknown=\"ignore\", drop=\"first\"),\n",
    "            one_hot_columns,\n",
    "        ),\n",
    "        (\"ordinal\", OrdinalEncoder(), ordinal_columns),\n",
    "    ],\n",
    "    remainder=\"passthrough\",\n",
    ")"
   ]
  },
  {
   "cell_type": "code",
   "execution_count": 77,
   "metadata": {
    "execution": {
     "iopub.execute_input": "2024-10-29T17:19:15.346785Z",
     "iopub.status.busy": "2024-10-29T17:19:15.346406Z",
     "iopub.status.idle": "2024-10-29T17:19:15.857945Z",
     "shell.execute_reply": "2024-10-29T17:19:15.857027Z",
     "shell.execute_reply.started": "2024-10-29T17:19:15.346747Z"
    },
    "trusted": true
   },
   "outputs": [
    {
     "data": {
      "text/html": [
       "<div>\n",
       "<style scoped>\n",
       "    .dataframe tbody tr th:only-of-type {\n",
       "        vertical-align: middle;\n",
       "    }\n",
       "\n",
       "    .dataframe tbody tr th {\n",
       "        vertical-align: top;\n",
       "    }\n",
       "\n",
       "    .dataframe thead th {\n",
       "        text-align: right;\n",
       "    }\n",
       "</style>\n",
       "<table border=\"1\" class=\"dataframe\">\n",
       "  <thead>\n",
       "    <tr style=\"text-align: right;\">\n",
       "      <th></th>\n",
       "      <th>onehot__Name_A.Ed</th>\n",
       "      <th>onehot__Name_Aadhya</th>\n",
       "      <th>onehot__Name_Aahana</th>\n",
       "      <th>onehot__Name_Aakash</th>\n",
       "      <th>onehot__Name_Aam</th>\n",
       "      <th>onehot__Name_Aan</th>\n",
       "      <th>onehot__Name_Aanchal</th>\n",
       "      <th>onehot__Name_Aani</th>\n",
       "      <th>onehot__Name_Aanket</th>\n",
       "      <th>onehot__Name_Aanya</th>\n",
       "      <th>...</th>\n",
       "      <th>onehot__Family History of Mental Illness_Yes</th>\n",
       "      <th>ordinal__Academic/Work Pressure</th>\n",
       "      <th>ordinal__Study/Job Satisfaction</th>\n",
       "      <th>remainder__Age</th>\n",
       "      <th>remainder__CGPA</th>\n",
       "      <th>remainder__Work/Study Hours</th>\n",
       "      <th>remainder__Financial Stress</th>\n",
       "      <th>remainder__Age_bin</th>\n",
       "      <th>remainder__satisfaction_by_pressure</th>\n",
       "      <th>remainder__age_work_satisfaction</th>\n",
       "    </tr>\n",
       "  </thead>\n",
       "  <tbody>\n",
       "    <tr>\n",
       "      <th>0</th>\n",
       "      <td>0.0</td>\n",
       "      <td>0.0</td>\n",
       "      <td>0.0</td>\n",
       "      <td>0.0</td>\n",
       "      <td>0.0</td>\n",
       "      <td>0.0</td>\n",
       "      <td>0.0</td>\n",
       "      <td>0.0</td>\n",
       "      <td>0.0</td>\n",
       "      <td>0.0</td>\n",
       "      <td>...</td>\n",
       "      <td>0.0</td>\n",
       "      <td>4.0</td>\n",
       "      <td>1.0</td>\n",
       "      <td>49.0</td>\n",
       "      <td>0.00</td>\n",
       "      <td>1.0</td>\n",
       "      <td>2.0</td>\n",
       "      <td>3.0</td>\n",
       "      <td>2.500000</td>\n",
       "      <td>24.500000</td>\n",
       "    </tr>\n",
       "    <tr>\n",
       "      <th>1</th>\n",
       "      <td>0.0</td>\n",
       "      <td>0.0</td>\n",
       "      <td>0.0</td>\n",
       "      <td>0.0</td>\n",
       "      <td>0.0</td>\n",
       "      <td>0.0</td>\n",
       "      <td>0.0</td>\n",
       "      <td>0.0</td>\n",
       "      <td>0.0</td>\n",
       "      <td>0.0</td>\n",
       "      <td>...</td>\n",
       "      <td>0.0</td>\n",
       "      <td>3.0</td>\n",
       "      <td>2.0</td>\n",
       "      <td>26.0</td>\n",
       "      <td>0.00</td>\n",
       "      <td>7.0</td>\n",
       "      <td>3.0</td>\n",
       "      <td>0.0</td>\n",
       "      <td>1.333333</td>\n",
       "      <td>8.666667</td>\n",
       "    </tr>\n",
       "    <tr>\n",
       "      <th>2</th>\n",
       "      <td>0.0</td>\n",
       "      <td>0.0</td>\n",
       "      <td>0.0</td>\n",
       "      <td>0.0</td>\n",
       "      <td>0.0</td>\n",
       "      <td>0.0</td>\n",
       "      <td>0.0</td>\n",
       "      <td>0.0</td>\n",
       "      <td>0.0</td>\n",
       "      <td>0.0</td>\n",
       "      <td>...</td>\n",
       "      <td>0.0</td>\n",
       "      <td>4.0</td>\n",
       "      <td>1.0</td>\n",
       "      <td>33.0</td>\n",
       "      <td>8.97</td>\n",
       "      <td>3.0</td>\n",
       "      <td>1.0</td>\n",
       "      <td>1.0</td>\n",
       "      <td>2.500000</td>\n",
       "      <td>16.500000</td>\n",
       "    </tr>\n",
       "    <tr>\n",
       "      <th>3</th>\n",
       "      <td>0.0</td>\n",
       "      <td>0.0</td>\n",
       "      <td>0.0</td>\n",
       "      <td>0.0</td>\n",
       "      <td>0.0</td>\n",
       "      <td>0.0</td>\n",
       "      <td>0.0</td>\n",
       "      <td>0.0</td>\n",
       "      <td>0.0</td>\n",
       "      <td>0.0</td>\n",
       "      <td>...</td>\n",
       "      <td>1.0</td>\n",
       "      <td>4.0</td>\n",
       "      <td>0.0</td>\n",
       "      <td>22.0</td>\n",
       "      <td>0.00</td>\n",
       "      <td>10.0</td>\n",
       "      <td>1.0</td>\n",
       "      <td>0.0</td>\n",
       "      <td>5.000000</td>\n",
       "      <td>22.000000</td>\n",
       "    </tr>\n",
       "    <tr>\n",
       "      <th>4</th>\n",
       "      <td>0.0</td>\n",
       "      <td>0.0</td>\n",
       "      <td>0.0</td>\n",
       "      <td>0.0</td>\n",
       "      <td>0.0</td>\n",
       "      <td>0.0</td>\n",
       "      <td>0.0</td>\n",
       "      <td>0.0</td>\n",
       "      <td>0.0</td>\n",
       "      <td>0.0</td>\n",
       "      <td>...</td>\n",
       "      <td>1.0</td>\n",
       "      <td>0.0</td>\n",
       "      <td>0.0</td>\n",
       "      <td>30.0</td>\n",
       "      <td>0.00</td>\n",
       "      <td>9.0</td>\n",
       "      <td>4.0</td>\n",
       "      <td>1.0</td>\n",
       "      <td>1.000000</td>\n",
       "      <td>30.000000</td>\n",
       "    </tr>\n",
       "  </tbody>\n",
       "</table>\n",
       "<p>5 rows × 764 columns</p>\n",
       "</div>"
      ],
      "text/plain": [
       "   onehot__Name_A.Ed  onehot__Name_Aadhya  onehot__Name_Aahana  \\\n",
       "0                0.0                  0.0                  0.0   \n",
       "1                0.0                  0.0                  0.0   \n",
       "2                0.0                  0.0                  0.0   \n",
       "3                0.0                  0.0                  0.0   \n",
       "4                0.0                  0.0                  0.0   \n",
       "\n",
       "   onehot__Name_Aakash  onehot__Name_Aam  onehot__Name_Aan  \\\n",
       "0                  0.0               0.0               0.0   \n",
       "1                  0.0               0.0               0.0   \n",
       "2                  0.0               0.0               0.0   \n",
       "3                  0.0               0.0               0.0   \n",
       "4                  0.0               0.0               0.0   \n",
       "\n",
       "   onehot__Name_Aanchal  onehot__Name_Aani  onehot__Name_Aanket  \\\n",
       "0                   0.0                0.0                  0.0   \n",
       "1                   0.0                0.0                  0.0   \n",
       "2                   0.0                0.0                  0.0   \n",
       "3                   0.0                0.0                  0.0   \n",
       "4                   0.0                0.0                  0.0   \n",
       "\n",
       "   onehot__Name_Aanya  ...  onehot__Family History of Mental Illness_Yes  \\\n",
       "0                 0.0  ...                                           0.0   \n",
       "1                 0.0  ...                                           0.0   \n",
       "2                 0.0  ...                                           0.0   \n",
       "3                 0.0  ...                                           1.0   \n",
       "4                 0.0  ...                                           1.0   \n",
       "\n",
       "   ordinal__Academic/Work Pressure  ordinal__Study/Job Satisfaction  \\\n",
       "0                              4.0                              1.0   \n",
       "1                              3.0                              2.0   \n",
       "2                              4.0                              1.0   \n",
       "3                              4.0                              0.0   \n",
       "4                              0.0                              0.0   \n",
       "\n",
       "   remainder__Age  remainder__CGPA  remainder__Work/Study Hours  \\\n",
       "0            49.0             0.00                          1.0   \n",
       "1            26.0             0.00                          7.0   \n",
       "2            33.0             8.97                          3.0   \n",
       "3            22.0             0.00                         10.0   \n",
       "4            30.0             0.00                          9.0   \n",
       "\n",
       "   remainder__Financial Stress  remainder__Age_bin  \\\n",
       "0                          2.0                 3.0   \n",
       "1                          3.0                 0.0   \n",
       "2                          1.0                 1.0   \n",
       "3                          1.0                 0.0   \n",
       "4                          4.0                 1.0   \n",
       "\n",
       "   remainder__satisfaction_by_pressure  remainder__age_work_satisfaction  \n",
       "0                             2.500000                         24.500000  \n",
       "1                             1.333333                          8.666667  \n",
       "2                             2.500000                         16.500000  \n",
       "3                             5.000000                         22.000000  \n",
       "4                             1.000000                         30.000000  \n",
       "\n",
       "[5 rows x 764 columns]"
      ]
     },
     "execution_count": 77,
     "metadata": {},
     "output_type": "execute_result"
    }
   ],
   "source": [
    "X_train = ct.fit_transform(X_train).toarray()\n",
    "X_train = pd.DataFrame(X_train, columns=ct.get_feature_names_out())\n",
    "X_train.head()"
   ]
  },
  {
   "cell_type": "code",
   "execution_count": 78,
   "metadata": {
    "execution": {
     "iopub.execute_input": "2024-10-29T17:32:51.190806Z",
     "iopub.status.busy": "2024-10-29T17:32:51.190441Z",
     "iopub.status.idle": "2024-10-29T17:32:51.347025Z",
     "shell.execute_reply": "2024-10-29T17:32:51.346195Z",
     "shell.execute_reply.started": "2024-10-29T17:32:51.190772Z"
    },
    "trusted": true
   },
   "outputs": [],
   "source": [
    "df_test_processed = ct.transform(test_processed)"
   ]
  },
  {
   "cell_type": "markdown",
   "metadata": {},
   "source": [
    "#### 6.2 LGBM Hyperparameter Tuning with Optuna"
   ]
  },
  {
   "cell_type": "code",
   "execution_count": 79,
   "metadata": {
    "execution": {
     "iopub.execute_input": "2024-10-29T17:29:41.844547Z",
     "iopub.status.busy": "2024-10-29T17:29:41.844148Z",
     "iopub.status.idle": "2024-10-29T17:29:41.855436Z",
     "shell.execute_reply": "2024-10-29T17:29:41.854521Z",
     "shell.execute_reply.started": "2024-10-29T17:29:41.844509Z"
    },
    "trusted": true
   },
   "outputs": [],
   "source": [
    "def lgbm_objective(trial):\n",
    "    params = {\n",
    "        \"n_estimators\": trial.suggest_int(\"n_estimators\", 100, 1200),\n",
    "        \"learning_rate\": trial.suggest_float(\"learning_rate\", 0.01, 0.3),\n",
    "        \"num_leaves\": trial.suggest_int(\"num_leaves\", 20, 256),\n",
    "        \"max_depth\": trial.suggest_int(\"max_depth\", 3, 10),\n",
    "        \"min_child_samples\": trial.suggest_int(\"min_child_samples\", 10, 200),\n",
    "        \"subsample\": trial.suggest_float(\"subsample\", 0.5, 1.0),\n",
    "        \"colsample_bytree\": trial.suggest_float(\"colsample_bytree\", 0.5, 1.0),\n",
    "        \"reg_alpha\": trial.suggest_float(\"reg_alpha\", 0, 10),\n",
    "        \"reg_lambda\": trial.suggest_float(\"reg_lambda\", 0, 10),\n",
    "        \"bagging_freq\": trial.suggest_int(\"bagging_freq\", 1, 3),\n",
    "        \"is_unbalance\": trial.suggest_categorical(\"is_unbalance\", [\"+\", \"-\"]),\n",
    "    }\n",
    "\n",
    "    # creating LightGBM classifier with suggested hyperparameters\n",
    "    lgbm_model = LGBMClassifier(\n",
    "        **params,\n",
    "        objective=\"binary\",\n",
    "        random_state=42,\n",
    "        n_jobs=-1,\n",
    "        device=\"gpu\",  # Enable GPU training\n",
    "        gpu_id=0,      # Specify the GPU ID (default is 0)\n",
    "        verbosity=-1,\n",
    "        metric=\"binary_logloss\",\n",
    "        early_stopping_round=50,\n",
    "    )\n",
    "\n",
    "    # stratified k-fold cross-validation\n",
    "    skf = StratifiedKFold(n_splits=5, shuffle=True, random_state=42)\n",
    "    accuracy_scores = []  # To store accuracy scores for each fold\n",
    "\n",
    "    for train_index, test_index in skf.split(X_train, y_train):\n",
    "        X_train_fold, X_test_fold = X_train.iloc[train_index], X_train.iloc[test_index]\n",
    "        y_train_fold, y_test_fold = y_train.iloc[train_index], y_train.iloc[test_index]\n",
    "\n",
    "        lgbm_model.fit(\n",
    "            X_train_fold,\n",
    "            y_train_fold,\n",
    "            eval_set=[(X_test_fold, y_test_fold)],\n",
    "            eval_metric=\"binary_logloss\",\n",
    "        )\n",
    "        y_pred = lgbm_model.predict(X_test_fold)\n",
    "        acc = accuracy_score(y_test_fold, y_pred)  # Calculate accuracy\n",
    "        accuracy_scores.append(acc)\n",
    "\n",
    "    print(f\"Trial {trial.number}: {accuracy_scores} , mean : {np.mean(accuracy_scores)}\")\n",
    "    return np.mean(accuracy_scores)\n"
   ]
  },
  {
   "cell_type": "code",
   "execution_count": 80,
   "metadata": {
    "execution": {
     "iopub.execute_input": "2024-10-29T18:53:31.060216Z",
     "iopub.status.busy": "2024-10-29T18:53:31.059821Z",
     "iopub.status.idle": "2024-10-29T18:53:31.068043Z",
     "shell.execute_reply": "2024-10-29T18:53:31.066938Z",
     "shell.execute_reply.started": "2024-10-29T18:53:31.060167Z"
    },
    "trusted": true
   },
   "outputs": [],
   "source": [
    "if RETUNE_LGBM:\n",
    "    lgbm_study = optuna.create_study(\n",
    "        direction=\"maximize\",\n",
    "        sampler=TPESampler(n_startup_trials=30, seed=42, multivariate=True),\n",
    "    )\n",
    "    lgbm_study.optimize(lgbm_objective, n_trials=100)\n",
    "\n",
    "    print(\"Best Hyperparameters:\", lgbm_study.best_params)\n",
    "    print(\"Best Accuracy:\", lgbm_study.best_value)\n",
    "    lgbm_combined_data_best_params = lgbm_study.best_params\n",
    "else:\n",
    "    lgbm_combined_data_best_params = {\n",
    "        \"n_estimators\": 564,\n",
    "        \"learning_rate\": 0.17684726289602054,\n",
    "        \"num_leaves\": 144,\n",
    "        \"max_depth\": 3,\n",
    "        \"min_child_samples\": 148,\n",
    "        \"subsample\": 0.8663927112474474,\n",
    "        \"colsample_bytree\": 0.6468931065136218,\n",
    "        \"reg_alpha\": 2.6680158055158745,\n",
    "        \"reg_lambda\": 7.175333813772933,\n",
    "        \"bagging_freq\": 2,\n",
    "        \"is_unbalance\": \"-\",\n",
    "    }"
   ]
  },
  {
   "cell_type": "markdown",
   "metadata": {},
   "source": [
    "Best Hyperparameters: {'n_estimators': 564, 'learning_rate': 0.17684726289602054, 'num_leaves': 144, 'max_depth': 3, 'min_child_samples': 148, 'subsample': 0.8663927112474474, 'colsample_bytree': 0.6468931065136218, 'reg_alpha': 2.6680158055158745, 'reg_lambda': 7.175333813772933, 'bagging_freq': 2, 'is_unbalance': '-'}\n",
    "Best Accuracy: 0.9402487562189055"
   ]
  },
  {
   "cell_type": "code",
   "execution_count": 81,
   "metadata": {
    "execution": {
     "iopub.execute_input": "2024-10-29T17:36:57.219678Z",
     "iopub.status.busy": "2024-10-29T17:36:57.21878Z",
     "iopub.status.idle": "2024-10-29T17:41:05.973055Z",
     "shell.execute_reply": "2024-10-29T17:41:05.970857Z",
     "shell.execute_reply.started": "2024-10-29T17:36:57.219635Z"
    },
    "scrolled": true,
    "trusted": true
   },
   "outputs": [
    {
     "name": "stdout",
     "output_type": "stream",
     "text": [
      "scores: [0.9403532039648193, 0.9391644270706083, 0.9425499982548602, 0.9395832606191756, 0.9402813165334544] , mean : 0.9403864412885836\n"
     ]
    }
   ],
   "source": [
    "## using stratified K-Fold Cross Validation because the dataset is imbalanced.\n",
    "\n",
    "skf = StratifiedKFold(n_splits=5, shuffle=True, random_state=42)\n",
    "accuracy_scores = []\n",
    "oof_preds = np.zeros(len(y_train))\n",
    "test_preds = np.zeros(len(test))\n",
    "\n",
    "lgbm_model_final = LGBMClassifier(\n",
    "    **lgbm_combined_data_best_params,\n",
    "    random_state=42,\n",
    "    # n_jobs=-1,\n",
    "    verbosity=-2,\n",
    "    objective=\"binary\",\n",
    "    metric=\"binary_logloss\",\n",
    "    early_stopping_round=200,\n",
    "    device=\"gpu\",\n",
    ")\n",
    "\n",
    "for train_index, test_index in skf.split(X_train, y_train):\n",
    "    X_train_fold, X_test_fold = X_train.iloc[train_index], X_train.iloc[test_index]\n",
    "    y_train_fold, y_test_fold = y_train.iloc[train_index], y_train.iloc[test_index]\n",
    "\n",
    "    lgbm_model_final.fit(\n",
    "        X_train_fold,\n",
    "        y_train_fold,\n",
    "        eval_set=[(X_test_fold, y_test_fold)],\n",
    "        eval_metric=\"binary_logloss\",\n",
    "    )\n",
    "    y_pred = lgbm_model_final.predict(X_test_fold)\n",
    "    acc = accuracy_score(y_test_fold, y_pred)  # Calculate accuracy\n",
    "    accuracy_scores.append(acc)\n",
    "\n",
    "    oof_preds[test_index] = lgbm_model_final.predict(X_test_fold)\n",
    "    test_preds += (\n",
    "        lgbm_model_final.predict(df_test_processed) / skf.get_n_splits()\n",
    "    )\n",
    "\n",
    "preds_train[\"lgbm_combined_data\"] = oof_preds\n",
    "preds_test[\"lgbm_combined_data\"] = test_preds\n",
    "\n",
    "print(f\"scores: {accuracy_scores} , mean : {np.mean(accuracy_scores)}\")\n"
   ]
  },
  {
   "cell_type": "code",
   "execution_count": 82,
   "metadata": {
    "execution": {
     "iopub.execute_input": "2024-10-29T17:44:10.621018Z",
     "iopub.status.busy": "2024-10-29T17:44:10.620627Z",
     "iopub.status.idle": "2024-10-29T17:44:10.630801Z",
     "shell.execute_reply": "2024-10-29T17:44:10.629898Z",
     "shell.execute_reply.started": "2024-10-29T17:44:10.62098Z"
    },
    "trusted": true
   },
   "outputs": [
    {
     "data": {
      "text/html": [
       "<div>\n",
       "<style scoped>\n",
       "    .dataframe tbody tr th:only-of-type {\n",
       "        vertical-align: middle;\n",
       "    }\n",
       "\n",
       "    .dataframe tbody tr th {\n",
       "        vertical-align: top;\n",
       "    }\n",
       "\n",
       "    .dataframe thead th {\n",
       "        text-align: right;\n",
       "    }\n",
       "</style>\n",
       "<table border=\"1\" class=\"dataframe\">\n",
       "  <thead>\n",
       "    <tr style=\"text-align: right;\">\n",
       "      <th></th>\n",
       "      <th>lgbm_combined_data</th>\n",
       "    </tr>\n",
       "  </thead>\n",
       "  <tbody>\n",
       "    <tr>\n",
       "      <th>0</th>\n",
       "      <td>0.0</td>\n",
       "    </tr>\n",
       "    <tr>\n",
       "      <th>1</th>\n",
       "      <td>1.0</td>\n",
       "    </tr>\n",
       "    <tr>\n",
       "      <th>2</th>\n",
       "      <td>0.0</td>\n",
       "    </tr>\n",
       "    <tr>\n",
       "      <th>3</th>\n",
       "      <td>1.0</td>\n",
       "    </tr>\n",
       "    <tr>\n",
       "      <th>4</th>\n",
       "      <td>0.0</td>\n",
       "    </tr>\n",
       "  </tbody>\n",
       "</table>\n",
       "</div>"
      ],
      "text/plain": [
       "   lgbm_combined_data\n",
       "0                 0.0\n",
       "1                 1.0\n",
       "2                 0.0\n",
       "3                 1.0\n",
       "4                 0.0"
      ]
     },
     "execution_count": 82,
     "metadata": {},
     "output_type": "execute_result"
    }
   ],
   "source": [
    "preds_train.head()"
   ]
  },
  {
   "cell_type": "code",
   "execution_count": 83,
   "metadata": {
    "execution": {
     "iopub.execute_input": "2024-10-29T17:44:20.12496Z",
     "iopub.status.busy": "2024-10-29T17:44:20.124557Z",
     "iopub.status.idle": "2024-10-29T17:44:20.134727Z",
     "shell.execute_reply": "2024-10-29T17:44:20.133774Z",
     "shell.execute_reply.started": "2024-10-29T17:44:20.124921Z"
    },
    "trusted": true
   },
   "outputs": [
    {
     "data": {
      "text/html": [
       "<div>\n",
       "<style scoped>\n",
       "    .dataframe tbody tr th:only-of-type {\n",
       "        vertical-align: middle;\n",
       "    }\n",
       "\n",
       "    .dataframe tbody tr th {\n",
       "        vertical-align: top;\n",
       "    }\n",
       "\n",
       "    .dataframe thead th {\n",
       "        text-align: right;\n",
       "    }\n",
       "</style>\n",
       "<table border=\"1\" class=\"dataframe\">\n",
       "  <thead>\n",
       "    <tr style=\"text-align: right;\">\n",
       "      <th></th>\n",
       "      <th>lgbm_combined_data</th>\n",
       "    </tr>\n",
       "  </thead>\n",
       "  <tbody>\n",
       "    <tr>\n",
       "      <th>0</th>\n",
       "      <td>0.0</td>\n",
       "    </tr>\n",
       "    <tr>\n",
       "      <th>1</th>\n",
       "      <td>0.0</td>\n",
       "    </tr>\n",
       "    <tr>\n",
       "      <th>2</th>\n",
       "      <td>0.0</td>\n",
       "    </tr>\n",
       "    <tr>\n",
       "      <th>3</th>\n",
       "      <td>1.0</td>\n",
       "    </tr>\n",
       "    <tr>\n",
       "      <th>4</th>\n",
       "      <td>0.0</td>\n",
       "    </tr>\n",
       "  </tbody>\n",
       "</table>\n",
       "</div>"
      ],
      "text/plain": [
       "   lgbm_combined_data\n",
       "0                 0.0\n",
       "1                 0.0\n",
       "2                 0.0\n",
       "3                 1.0\n",
       "4                 0.0"
      ]
     },
     "execution_count": 83,
     "metadata": {},
     "output_type": "execute_result"
    }
   ],
   "source": [
    "preds_test.head()"
   ]
  },
  {
   "cell_type": "markdown",
   "metadata": {},
   "source": [
    "# 7. Combining Catboost & LGBM"
   ]
  },
  {
   "cell_type": "markdown",
   "metadata": {},
   "source": [
    "Now, we will blend the catboost and LGBM model outputs with lasso model.\n",
    "\n",
    "We will use lasso to figure out appropriate weights to be used to combine the predictions for optimal AUC score."
   ]
  },
  {
   "cell_type": "code",
   "execution_count": null,
   "metadata": {
    "execution": {
     "iopub.execute_input": "2024-10-29T18:10:29.377374Z",
     "iopub.status.busy": "2024-10-29T18:10:29.376975Z",
     "iopub.status.idle": "2024-10-29T18:10:29.383772Z",
     "shell.execute_reply": "2024-10-29T18:10:29.382531Z",
     "shell.execute_reply.started": "2024-10-29T18:10:29.377337Z"
    },
    "trusted": true
   },
   "outputs": [],
   "source": [
    "def lasso_objective(trial):\n",
    "    alpha = trial.suggest_float(\"alpha\", 0.001, 10)\n",
    "    blending_model = Lasso(alpha=alpha)\n",
    "    acc_score = cross_val_score(\n",
    "        blending_model,\n",
    "        preds_train,\n",
    "        y_train,\n",
    "        n_jobs=-1,\n",
    "        cv=StratifiedKFold(n_splits=5, shuffle=True, random_state=42),\n",
    "        scoring=\"neg_mean_squared_error\",\n",
    "    ).mean()\n",
    "    return acc_score"
   ]
  },
  {
   "cell_type": "code",
   "execution_count": 53,
   "metadata": {
    "execution": {
     "iopub.execute_input": "2024-10-29T18:53:41.001729Z",
     "iopub.status.busy": "2024-10-29T18:53:41.001033Z",
     "iopub.status.idle": "2024-10-29T18:53:41.007206Z",
     "shell.execute_reply": "2024-10-29T18:53:41.006253Z",
     "shell.execute_reply.started": "2024-10-29T18:53:41.001684Z"
    },
    "scrolled": true,
    "trusted": true
   },
   "outputs": [
    {
     "name": "stderr",
     "output_type": "stream",
     "text": [
      "[I 2024-11-25 19:20:36,922] A new study created in memory with name: no-name-884691e8-6426-4c71-88d7-0513eeaf74e7\n",
      "[I 2024-11-25 19:20:39,287] Trial 0 finished with value: -0.1486932993866589 and parameters: {'alpha': 751.3241676338966}. Best is trial 0 with value: -0.1486932993866589.\n",
      "[I 2024-11-25 19:20:40,787] Trial 1 finished with value: -0.1486932993866589 and parameters: {'alpha': 422.42642247694107}. Best is trial 0 with value: -0.1486932993866589.\n",
      "[I 2024-11-25 19:20:41,020] Trial 2 finished with value: -0.1486932993866589 and parameters: {'alpha': 980.98268751197}. Best is trial 0 with value: -0.1486932993866589.\n",
      "[I 2024-11-25 19:20:41,251] Trial 3 finished with value: -0.1486932993866589 and parameters: {'alpha': 992.1083361271191}. Best is trial 0 with value: -0.1486932993866589.\n",
      "[I 2024-11-25 19:20:41,457] Trial 4 finished with value: -0.1486932993866589 and parameters: {'alpha': 586.9272691661264}. Best is trial 0 with value: -0.1486932993866589.\n",
      "[I 2024-11-25 19:20:41,671] Trial 5 finished with value: -0.1486932993866589 and parameters: {'alpha': 425.5194103512789}. Best is trial 0 with value: -0.1486932993866589.\n",
      "[I 2024-11-25 19:20:41,935] Trial 6 finished with value: -0.1486932993866589 and parameters: {'alpha': 206.28821148244842}. Best is trial 0 with value: -0.1486932993866589.\n",
      "[I 2024-11-25 19:20:42,153] Trial 7 finished with value: -0.1486932993866589 and parameters: {'alpha': 322.5293851010614}. Best is trial 0 with value: -0.1486932993866589.\n",
      "[I 2024-11-25 19:20:42,371] Trial 8 finished with value: -0.1486932993866589 and parameters: {'alpha': 322.1298989218206}. Best is trial 0 with value: -0.1486932993866589.\n",
      "[I 2024-11-25 19:20:42,576] Trial 9 finished with value: -0.1486932993866589 and parameters: {'alpha': 201.80544650584355}. Best is trial 0 with value: -0.1486932993866589.\n",
      "[I 2024-11-25 19:20:42,798] Trial 10 finished with value: -0.1486932993866589 and parameters: {'alpha': 806.7612752992662}. Best is trial 0 with value: -0.1486932993866589.\n",
      "[I 2024-11-25 19:20:43,017] Trial 11 finished with value: -0.1486932993866589 and parameters: {'alpha': 653.6534687682341}. Best is trial 0 with value: -0.1486932993866589.\n",
      "[I 2024-11-25 19:20:43,233] Trial 12 finished with value: -0.1486932993866589 and parameters: {'alpha': 579.7765699938265}. Best is trial 0 with value: -0.1486932993866589.\n",
      "[I 2024-11-25 19:20:43,437] Trial 13 finished with value: -0.1486932993866589 and parameters: {'alpha': 738.1636811004774}. Best is trial 0 with value: -0.1486932993866589.\n",
      "[I 2024-11-25 19:20:43,672] Trial 14 finished with value: -0.1486932993866589 and parameters: {'alpha': 449.6336893401147}. Best is trial 0 with value: -0.1486932993866589.\n",
      "[I 2024-11-25 19:20:43,887] Trial 15 finished with value: -0.1486932993866589 and parameters: {'alpha': 846.7060015726704}. Best is trial 0 with value: -0.1486932993866589.\n",
      "[I 2024-11-25 19:20:44,120] Trial 16 finished with value: -0.1486932993866589 and parameters: {'alpha': 498.0656909482641}. Best is trial 0 with value: -0.1486932993866589.\n",
      "[I 2024-11-25 19:20:44,340] Trial 17 finished with value: -0.1486932993866589 and parameters: {'alpha': 705.1287690999035}. Best is trial 0 with value: -0.1486932993866589.\n",
      "[I 2024-11-25 19:20:44,574] Trial 18 finished with value: -0.1486932993866589 and parameters: {'alpha': 859.8909576325347}. Best is trial 0 with value: -0.1486932993866589.\n",
      "[I 2024-11-25 19:20:44,781] Trial 19 finished with value: -0.1486932993866589 and parameters: {'alpha': 514.7405151667673}. Best is trial 0 with value: -0.1486932993866589.\n",
      "[I 2024-11-25 19:20:45,027] Trial 20 finished with value: -0.1486932993866589 and parameters: {'alpha': 380.6590056370309}. Best is trial 0 with value: -0.1486932993866589.\n",
      "[I 2024-11-25 19:20:45,276] Trial 21 finished with value: -0.1486932993866589 and parameters: {'alpha': 941.2319081423539}. Best is trial 0 with value: -0.1486932993866589.\n",
      "[I 2024-11-25 19:20:45,495] Trial 22 finished with value: -0.1486932993866589 and parameters: {'alpha': 914.0567609029027}. Best is trial 0 with value: -0.1486932993866589.\n",
      "[I 2024-11-25 19:20:45,729] Trial 23 finished with value: -0.1486932993866589 and parameters: {'alpha': 766.5304994174792}. Best is trial 0 with value: -0.1486932993866589.\n",
      "[I 2024-11-25 19:20:45,947] Trial 24 finished with value: -0.1486932993866589 and parameters: {'alpha': 993.2067647888966}. Best is trial 0 with value: -0.1486932993866589.\n",
      "[I 2024-11-25 19:20:46,165] Trial 25 finished with value: -0.1486932993866589 and parameters: {'alpha': 654.7145146857728}. Best is trial 0 with value: -0.1486932993866589.\n",
      "[I 2024-11-25 19:20:46,384] Trial 26 finished with value: -0.1486932993866589 and parameters: {'alpha': 668.8089460431529}. Best is trial 0 with value: -0.1486932993866589.\n",
      "[I 2024-11-25 19:20:46,602] Trial 27 finished with value: -0.1486932993866589 and parameters: {'alpha': 904.6937611948233}. Best is trial 0 with value: -0.1486932993866589.\n",
      "[I 2024-11-25 19:20:46,822] Trial 28 finished with value: -0.1486932993866589 and parameters: {'alpha': 541.0131774112443}. Best is trial 0 with value: -0.1486932993866589.\n",
      "[I 2024-11-25 19:20:47,041] Trial 29 finished with value: -0.1486932993866589 and parameters: {'alpha': 298.61359625163004}. Best is trial 0 with value: -0.1486932993866589.\n",
      "[I 2024-11-25 19:20:47,258] Trial 30 finished with value: -0.1486932993866589 and parameters: {'alpha': 945.1503935014716}. Best is trial 0 with value: -0.1486932993866589.\n",
      "[I 2024-11-25 19:20:47,489] Trial 31 finished with value: -0.1486932993866589 and parameters: {'alpha': 857.8152809530122}. Best is trial 0 with value: -0.1486932993866589.\n",
      "[I 2024-11-25 19:20:47,708] Trial 32 finished with value: -0.1486932993866589 and parameters: {'alpha': 963.0790577505494}. Best is trial 0 with value: -0.1486932993866589.\n",
      "[I 2024-11-25 19:20:47,926] Trial 33 finished with value: -0.1486932993866589 and parameters: {'alpha': 992.7851339509251}. Best is trial 0 with value: -0.1486932993866589.\n",
      "[I 2024-11-25 19:20:48,144] Trial 34 finished with value: -0.1486932993866589 and parameters: {'alpha': 610.9182567023659}. Best is trial 0 with value: -0.1486932993866589.\n",
      "[I 2024-11-25 19:20:48,362] Trial 35 finished with value: -0.1486932993866589 and parameters: {'alpha': 771.2573023678464}. Best is trial 0 with value: -0.1486932993866589.\n",
      "[I 2024-11-25 19:20:48,583] Trial 36 finished with value: -0.1486932993866589 and parameters: {'alpha': 261.81958233914605}. Best is trial 0 with value: -0.1486932993866589.\n",
      "[I 2024-11-25 19:20:48,830] Trial 37 finished with value: -0.1486932993866589 and parameters: {'alpha': 415.98330827498586}. Best is trial 0 with value: -0.1486932993866589.\n",
      "[I 2024-11-25 19:20:49,067] Trial 38 finished with value: -0.1486932993866589 and parameters: {'alpha': 814.6166130887227}. Best is trial 0 with value: -0.1486932993866589.\n",
      "[I 2024-11-25 19:20:49,315] Trial 39 finished with value: -0.1486932993866589 and parameters: {'alpha': 893.0502759004363}. Best is trial 0 with value: -0.1486932993866589.\n",
      "[I 2024-11-25 19:20:49,532] Trial 40 finished with value: -0.1486932993866589 and parameters: {'alpha': 810.7776011344672}. Best is trial 0 with value: -0.1486932993866589.\n",
      "[I 2024-11-25 19:20:49,753] Trial 41 finished with value: -0.1486932993866589 and parameters: {'alpha': 613.8724866718176}. Best is trial 0 with value: -0.1486932993866589.\n",
      "[I 2024-11-25 19:20:50,003] Trial 42 finished with value: -0.1486932993866589 and parameters: {'alpha': 471.96846742584967}. Best is trial 0 with value: -0.1486932993866589.\n",
      "[I 2024-11-25 19:20:50,222] Trial 43 finished with value: -0.1486932993866589 and parameters: {'alpha': 563.6523048729894}. Best is trial 0 with value: -0.1486932993866589.\n",
      "[I 2024-11-25 19:20:50,440] Trial 44 finished with value: -0.1486932993866589 and parameters: {'alpha': 398.83846568660687}. Best is trial 0 with value: -0.1486932993866589.\n",
      "[I 2024-11-25 19:20:50,659] Trial 45 finished with value: -0.1486932993866589 and parameters: {'alpha': 353.3051614539836}. Best is trial 0 with value: -0.1486932993866589.\n",
      "[I 2024-11-25 19:20:50,875] Trial 46 finished with value: -0.1486932993866589 and parameters: {'alpha': 700.313909614072}. Best is trial 0 with value: -0.1486932993866589.\n",
      "[I 2024-11-25 19:20:51,092] Trial 47 finished with value: -0.1486932993866589 and parameters: {'alpha': 470.20614933528304}. Best is trial 0 with value: -0.1486932993866589.\n",
      "[I 2024-11-25 19:20:51,311] Trial 48 finished with value: -0.1486932993866589 and parameters: {'alpha': 882.7178754730369}. Best is trial 0 with value: -0.1486932993866589.\n",
      "[I 2024-11-25 19:20:51,533] Trial 49 finished with value: -0.1486932993866589 and parameters: {'alpha': 708.4053650036483}. Best is trial 0 with value: -0.1486932993866589.\n",
      "[I 2024-11-25 19:20:51,766] Trial 50 finished with value: -0.1486932993866589 and parameters: {'alpha': 228.88334821252494}. Best is trial 0 with value: -0.1486932993866589.\n",
      "[I 2024-11-25 19:20:51,987] Trial 51 finished with value: -0.1486932993866589 and parameters: {'alpha': 329.7621032406969}. Best is trial 0 with value: -0.1486932993866589.\n",
      "[I 2024-11-25 19:20:52,219] Trial 52 finished with value: -0.1486932993866589 and parameters: {'alpha': 430.14880343725537}. Best is trial 0 with value: -0.1486932993866589.\n",
      "[I 2024-11-25 19:20:52,437] Trial 53 finished with value: -0.1486932993866589 and parameters: {'alpha': 516.3014912087846}. Best is trial 0 with value: -0.1486932993866589.\n",
      "[I 2024-11-25 19:20:52,657] Trial 54 finished with value: -0.1486932993866589 and parameters: {'alpha': 366.4269417002957}. Best is trial 0 with value: -0.1486932993866589.\n",
      "[I 2024-11-25 19:20:52,875] Trial 55 finished with value: -0.1486932993866589 and parameters: {'alpha': 578.7095301394863}. Best is trial 0 with value: -0.1486932993866589.\n",
      "[I 2024-11-25 19:20:53,109] Trial 56 finished with value: -0.1486932993866589 and parameters: {'alpha': 930.843597173325}. Best is trial 0 with value: -0.1486932993866589.\n",
      "[I 2024-11-25 19:20:53,313] Trial 57 finished with value: -0.1486932993866589 and parameters: {'alpha': 767.0661830695882}. Best is trial 0 with value: -0.1486932993866589.\n",
      "[I 2024-11-25 19:20:53,517] Trial 58 finished with value: -0.1486932993866589 and parameters: {'alpha': 964.0517319938863}. Best is trial 0 with value: -0.1486932993866589.\n",
      "[I 2024-11-25 19:20:53,738] Trial 59 finished with value: -0.1486932993866589 and parameters: {'alpha': 640.0749480751896}. Best is trial 0 with value: -0.1486932993866589.\n",
      "[I 2024-11-25 19:20:53,957] Trial 60 finished with value: -0.1486932993866589 and parameters: {'alpha': 535.247242205998}. Best is trial 0 with value: -0.1486932993866589.\n",
      "[I 2024-11-25 19:20:54,176] Trial 61 finished with value: -0.1486932993866589 and parameters: {'alpha': 204.20694609104874}. Best is trial 0 with value: -0.1486932993866589.\n",
      "[I 2024-11-25 19:20:54,394] Trial 62 finished with value: -0.1486932993866589 and parameters: {'alpha': 323.7058422898892}. Best is trial 0 with value: -0.1486932993866589.\n",
      "[I 2024-11-25 19:20:54,612] Trial 63 finished with value: -0.1486932993866589 and parameters: {'alpha': 295.91387682016114}. Best is trial 0 with value: -0.1486932993866589.\n",
      "[I 2024-11-25 19:20:54,845] Trial 64 finished with value: -0.1486932993866589 and parameters: {'alpha': 487.83269038751837}. Best is trial 0 with value: -0.1486932993866589.\n",
      "[I 2024-11-25 19:20:55,062] Trial 65 finished with value: -0.1486932993866589 and parameters: {'alpha': 834.4283382632761}. Best is trial 0 with value: -0.1486932993866589.\n",
      "[I 2024-11-25 19:20:55,282] Trial 66 finished with value: -0.1486932993866589 and parameters: {'alpha': 732.2128938123982}. Best is trial 0 with value: -0.1486932993866589.\n",
      "[I 2024-11-25 19:20:55,486] Trial 67 finished with value: -0.1486932993866589 and parameters: {'alpha': 258.4237539825432}. Best is trial 0 with value: -0.1486932993866589.\n",
      "[I 2024-11-25 19:20:55,703] Trial 68 finished with value: -0.1486932993866589 and parameters: {'alpha': 997.8258063989196}. Best is trial 0 with value: -0.1486932993866589.\n",
      "[I 2024-11-25 19:20:55,922] Trial 69 finished with value: -0.1486932993866589 and parameters: {'alpha': 628.473985090275}. Best is trial 0 with value: -0.1486932993866589.\n",
      "[I 2024-11-25 19:20:56,144] Trial 70 finished with value: -0.1486932993866589 and parameters: {'alpha': 666.6051215297722}. Best is trial 0 with value: -0.1486932993866589.\n",
      "[I 2024-11-25 19:20:56,379] Trial 71 finished with value: -0.1486932993866589 and parameters: {'alpha': 284.11252204752174}. Best is trial 0 with value: -0.1486932993866589.\n",
      "[I 2024-11-25 19:20:56,596] Trial 72 finished with value: -0.1486932993866589 and parameters: {'alpha': 449.7738250244922}. Best is trial 0 with value: -0.1486932993866589.\n",
      "[I 2024-11-25 19:20:56,801] Trial 73 finished with value: -0.1486932993866589 and parameters: {'alpha': 355.3811499807114}. Best is trial 0 with value: -0.1486932993866589.\n",
      "[I 2024-11-25 19:20:57,064] Trial 74 finished with value: -0.1486932993866589 and parameters: {'alpha': 382.6631695157789}. Best is trial 0 with value: -0.1486932993866589.\n",
      "[I 2024-11-25 19:20:57,285] Trial 75 finished with value: -0.1486932993866589 and parameters: {'alpha': 969.4880551032265}. Best is trial 0 with value: -0.1486932993866589.\n",
      "[I 2024-11-25 19:20:57,489] Trial 76 finished with value: -0.1486932993866589 and parameters: {'alpha': 239.10989752803795}. Best is trial 0 with value: -0.1486932993866589.\n",
      "[I 2024-11-25 19:20:57,707] Trial 77 finished with value: -0.1486932993866589 and parameters: {'alpha': 401.82233519238514}. Best is trial 0 with value: -0.1486932993866589.\n",
      "[I 2024-11-25 19:20:57,912] Trial 78 finished with value: -0.1486932993866589 and parameters: {'alpha': 444.6381837252941}. Best is trial 0 with value: -0.1486932993866589.\n",
      "[I 2024-11-25 19:20:58,132] Trial 79 finished with value: -0.1486932993866589 and parameters: {'alpha': 790.7490352226616}. Best is trial 0 with value: -0.1486932993866589.\n",
      "[I 2024-11-25 19:20:58,351] Trial 80 finished with value: -0.1486932993866589 and parameters: {'alpha': 342.6731434975532}. Best is trial 0 with value: -0.1486932993866589.\n",
      "[I 2024-11-25 19:20:58,555] Trial 81 finished with value: -0.1486932993866589 and parameters: {'alpha': 319.2786509567103}. Best is trial 0 with value: -0.1486932993866589.\n",
      "[I 2024-11-25 19:20:58,773] Trial 82 finished with value: -0.1486932993866589 and parameters: {'alpha': 284.8892209011545}. Best is trial 0 with value: -0.1486932993866589.\n",
      "[I 2024-11-25 19:20:58,990] Trial 83 finished with value: -0.1486932993866589 and parameters: {'alpha': 873.816729970491}. Best is trial 0 with value: -0.1486932993866589.\n",
      "[I 2024-11-25 19:20:59,207] Trial 84 finished with value: -0.1486932993866589 and parameters: {'alpha': 207.17834134222156}. Best is trial 0 with value: -0.1486932993866589.\n",
      "[I 2024-11-25 19:20:59,410] Trial 85 finished with value: -0.1486932993866589 and parameters: {'alpha': 909.3700293408942}. Best is trial 0 with value: -0.1486932993866589.\n",
      "[I 2024-11-25 19:20:59,611] Trial 86 finished with value: -0.1486932993866589 and parameters: {'alpha': 261.2500051020537}. Best is trial 0 with value: -0.1486932993866589.\n",
      "[I 2024-11-25 19:20:59,817] Trial 87 finished with value: -0.1486932993866589 and parameters: {'alpha': 930.5611083831703}. Best is trial 0 with value: -0.1486932993866589.\n",
      "[I 2024-11-25 19:21:00,048] Trial 88 finished with value: -0.1486932993866589 and parameters: {'alpha': 593.7146460922047}. Best is trial 0 with value: -0.1486932993866589.\n",
      "[I 2024-11-25 19:21:00,251] Trial 89 finished with value: -0.1486932993866589 and parameters: {'alpha': 380.2332513685951}. Best is trial 0 with value: -0.1486932993866589.\n",
      "[I 2024-11-25 19:21:00,515] Trial 90 finished with value: -0.1486932993866589 and parameters: {'alpha': 543.0968441028136}. Best is trial 0 with value: -0.1486932993866589.\n",
      "[I 2024-11-25 19:21:00,731] Trial 91 finished with value: -0.1486932993866589 and parameters: {'alpha': 248.76831057698186}. Best is trial 0 with value: -0.1486932993866589.\n",
      "[I 2024-11-25 19:21:00,937] Trial 92 finished with value: -0.1486932993866589 and parameters: {'alpha': 218.31828416683803}. Best is trial 0 with value: -0.1486932993866589.\n",
      "[I 2024-11-25 19:21:01,170] Trial 93 finished with value: -0.1486932993866589 and parameters: {'alpha': 226.79344518342728}. Best is trial 0 with value: -0.1486932993866589.\n",
      "[I 2024-11-25 19:21:01,390] Trial 94 finished with value: -0.1486932993866589 and parameters: {'alpha': 275.0158606104327}. Best is trial 0 with value: -0.1486932993866589.\n",
      "[I 2024-11-25 19:21:01,639] Trial 95 finished with value: -0.1486932993866589 and parameters: {'alpha': 309.24979891225877}. Best is trial 0 with value: -0.1486932993866589.\n",
      "[I 2024-11-25 19:21:01,857] Trial 96 finished with value: -0.1486932993866589 and parameters: {'alpha': 982.2985692140577}. Best is trial 0 with value: -0.1486932993866589.\n",
      "[I 2024-11-25 19:21:02,060] Trial 97 finished with value: -0.1486932993866589 and parameters: {'alpha': 420.72640571138663}. Best is trial 0 with value: -0.1486932993866589.\n",
      "[I 2024-11-25 19:21:02,263] Trial 98 finished with value: -0.1486932993866589 and parameters: {'alpha': 703.0521685110357}. Best is trial 0 with value: -0.1486932993866589.\n",
      "[I 2024-11-25 19:21:02,496] Trial 99 finished with value: -0.1486932993866589 and parameters: {'alpha': 509.73169654970206}. Best is trial 0 with value: -0.1486932993866589.\n"
     ]
    },
    {
     "name": "stdout",
     "output_type": "stream",
     "text": [
      "Best alpha: 751.3241676338966\n",
      "Best score: -0.1486932993866589\n"
     ]
    }
   ],
   "source": [
    "if RETUNE_LASSO:\n",
    "    lasso_study = optuna.create_study(direction=\"maximize\")\n",
    "    lasso_study.optimize(lasso_objective, n_trials=100)\n",
    "\n",
    "    print(\"Best alpha:\", lasso_study.best_params[\"alpha\"])\n",
    "    print(\"Best score:\", lasso_study.best_value)\n",
    "\n",
    "    best_alpha = lasso_study.best_params[\"alpha\"]\n",
    "\n",
    "else:\n",
    "    best_alpha = 0.460"
   ]
  },
  {
   "cell_type": "code",
   "execution_count": 54,
   "metadata": {
    "execution": {
     "iopub.execute_input": "2024-10-29T18:10:38.737582Z",
     "iopub.status.busy": "2024-10-29T18:10:38.736837Z",
     "iopub.status.idle": "2024-10-29T18:10:38.753686Z",
     "shell.execute_reply": "2024-10-29T18:10:38.752929Z",
     "shell.execute_reply.started": "2024-10-29T18:10:38.73754Z"
    },
    "trusted": true
   },
   "outputs": [
    {
     "data": {
      "text/html": [
       "<style>#sk-container-id-5 {\n",
       "  /* Definition of color scheme common for light and dark mode */\n",
       "  --sklearn-color-text: black;\n",
       "  --sklearn-color-line: gray;\n",
       "  /* Definition of color scheme for unfitted estimators */\n",
       "  --sklearn-color-unfitted-level-0: #fff5e6;\n",
       "  --sklearn-color-unfitted-level-1: #f6e4d2;\n",
       "  --sklearn-color-unfitted-level-2: #ffe0b3;\n",
       "  --sklearn-color-unfitted-level-3: chocolate;\n",
       "  /* Definition of color scheme for fitted estimators */\n",
       "  --sklearn-color-fitted-level-0: #f0f8ff;\n",
       "  --sklearn-color-fitted-level-1: #d4ebff;\n",
       "  --sklearn-color-fitted-level-2: #b3dbfd;\n",
       "  --sklearn-color-fitted-level-3: cornflowerblue;\n",
       "\n",
       "  /* Specific color for light theme */\n",
       "  --sklearn-color-text-on-default-background: var(--sg-text-color, var(--theme-code-foreground, var(--jp-content-font-color1, black)));\n",
       "  --sklearn-color-background: var(--sg-background-color, var(--theme-background, var(--jp-layout-color0, white)));\n",
       "  --sklearn-color-border-box: var(--sg-text-color, var(--theme-code-foreground, var(--jp-content-font-color1, black)));\n",
       "  --sklearn-color-icon: #696969;\n",
       "\n",
       "  @media (prefers-color-scheme: dark) {\n",
       "    /* Redefinition of color scheme for dark theme */\n",
       "    --sklearn-color-text-on-default-background: var(--sg-text-color, var(--theme-code-foreground, var(--jp-content-font-color1, white)));\n",
       "    --sklearn-color-background: var(--sg-background-color, var(--theme-background, var(--jp-layout-color0, #111)));\n",
       "    --sklearn-color-border-box: var(--sg-text-color, var(--theme-code-foreground, var(--jp-content-font-color1, white)));\n",
       "    --sklearn-color-icon: #878787;\n",
       "  }\n",
       "}\n",
       "\n",
       "#sk-container-id-5 {\n",
       "  color: var(--sklearn-color-text);\n",
       "}\n",
       "\n",
       "#sk-container-id-5 pre {\n",
       "  padding: 0;\n",
       "}\n",
       "\n",
       "#sk-container-id-5 input.sk-hidden--visually {\n",
       "  border: 0;\n",
       "  clip: rect(1px 1px 1px 1px);\n",
       "  clip: rect(1px, 1px, 1px, 1px);\n",
       "  height: 1px;\n",
       "  margin: -1px;\n",
       "  overflow: hidden;\n",
       "  padding: 0;\n",
       "  position: absolute;\n",
       "  width: 1px;\n",
       "}\n",
       "\n",
       "#sk-container-id-5 div.sk-dashed-wrapped {\n",
       "  border: 1px dashed var(--sklearn-color-line);\n",
       "  margin: 0 0.4em 0.5em 0.4em;\n",
       "  box-sizing: border-box;\n",
       "  padding-bottom: 0.4em;\n",
       "  background-color: var(--sklearn-color-background);\n",
       "}\n",
       "\n",
       "#sk-container-id-5 div.sk-container {\n",
       "  /* jupyter's `normalize.less` sets `[hidden] { display: none; }`\n",
       "     but bootstrap.min.css set `[hidden] { display: none !important; }`\n",
       "     so we also need the `!important` here to be able to override the\n",
       "     default hidden behavior on the sphinx rendered scikit-learn.org.\n",
       "     See: https://github.com/scikit-learn/scikit-learn/issues/21755 */\n",
       "  display: inline-block !important;\n",
       "  position: relative;\n",
       "}\n",
       "\n",
       "#sk-container-id-5 div.sk-text-repr-fallback {\n",
       "  display: none;\n",
       "}\n",
       "\n",
       "div.sk-parallel-item,\n",
       "div.sk-serial,\n",
       "div.sk-item {\n",
       "  /* draw centered vertical line to link estimators */\n",
       "  background-image: linear-gradient(var(--sklearn-color-text-on-default-background), var(--sklearn-color-text-on-default-background));\n",
       "  background-size: 2px 100%;\n",
       "  background-repeat: no-repeat;\n",
       "  background-position: center center;\n",
       "}\n",
       "\n",
       "/* Parallel-specific style estimator block */\n",
       "\n",
       "#sk-container-id-5 div.sk-parallel-item::after {\n",
       "  content: \"\";\n",
       "  width: 100%;\n",
       "  border-bottom: 2px solid var(--sklearn-color-text-on-default-background);\n",
       "  flex-grow: 1;\n",
       "}\n",
       "\n",
       "#sk-container-id-5 div.sk-parallel {\n",
       "  display: flex;\n",
       "  align-items: stretch;\n",
       "  justify-content: center;\n",
       "  background-color: var(--sklearn-color-background);\n",
       "  position: relative;\n",
       "}\n",
       "\n",
       "#sk-container-id-5 div.sk-parallel-item {\n",
       "  display: flex;\n",
       "  flex-direction: column;\n",
       "}\n",
       "\n",
       "#sk-container-id-5 div.sk-parallel-item:first-child::after {\n",
       "  align-self: flex-end;\n",
       "  width: 50%;\n",
       "}\n",
       "\n",
       "#sk-container-id-5 div.sk-parallel-item:last-child::after {\n",
       "  align-self: flex-start;\n",
       "  width: 50%;\n",
       "}\n",
       "\n",
       "#sk-container-id-5 div.sk-parallel-item:only-child::after {\n",
       "  width: 0;\n",
       "}\n",
       "\n",
       "/* Serial-specific style estimator block */\n",
       "\n",
       "#sk-container-id-5 div.sk-serial {\n",
       "  display: flex;\n",
       "  flex-direction: column;\n",
       "  align-items: center;\n",
       "  background-color: var(--sklearn-color-background);\n",
       "  padding-right: 1em;\n",
       "  padding-left: 1em;\n",
       "}\n",
       "\n",
       "\n",
       "/* Toggleable style: style used for estimator/Pipeline/ColumnTransformer box that is\n",
       "clickable and can be expanded/collapsed.\n",
       "- Pipeline and ColumnTransformer use this feature and define the default style\n",
       "- Estimators will overwrite some part of the style using the `sk-estimator` class\n",
       "*/\n",
       "\n",
       "/* Pipeline and ColumnTransformer style (default) */\n",
       "\n",
       "#sk-container-id-5 div.sk-toggleable {\n",
       "  /* Default theme specific background. It is overwritten whether we have a\n",
       "  specific estimator or a Pipeline/ColumnTransformer */\n",
       "  background-color: var(--sklearn-color-background);\n",
       "}\n",
       "\n",
       "/* Toggleable label */\n",
       "#sk-container-id-5 label.sk-toggleable__label {\n",
       "  cursor: pointer;\n",
       "  display: block;\n",
       "  width: 100%;\n",
       "  margin-bottom: 0;\n",
       "  padding: 0.5em;\n",
       "  box-sizing: border-box;\n",
       "  text-align: center;\n",
       "}\n",
       "\n",
       "#sk-container-id-5 label.sk-toggleable__label-arrow:before {\n",
       "  /* Arrow on the left of the label */\n",
       "  content: \"▸\";\n",
       "  float: left;\n",
       "  margin-right: 0.25em;\n",
       "  color: var(--sklearn-color-icon);\n",
       "}\n",
       "\n",
       "#sk-container-id-5 label.sk-toggleable__label-arrow:hover:before {\n",
       "  color: var(--sklearn-color-text);\n",
       "}\n",
       "\n",
       "/* Toggleable content - dropdown */\n",
       "\n",
       "#sk-container-id-5 div.sk-toggleable__content {\n",
       "  max-height: 0;\n",
       "  max-width: 0;\n",
       "  overflow: hidden;\n",
       "  text-align: left;\n",
       "  /* unfitted */\n",
       "  background-color: var(--sklearn-color-unfitted-level-0);\n",
       "}\n",
       "\n",
       "#sk-container-id-5 div.sk-toggleable__content.fitted {\n",
       "  /* fitted */\n",
       "  background-color: var(--sklearn-color-fitted-level-0);\n",
       "}\n",
       "\n",
       "#sk-container-id-5 div.sk-toggleable__content pre {\n",
       "  margin: 0.2em;\n",
       "  border-radius: 0.25em;\n",
       "  color: var(--sklearn-color-text);\n",
       "  /* unfitted */\n",
       "  background-color: var(--sklearn-color-unfitted-level-0);\n",
       "}\n",
       "\n",
       "#sk-container-id-5 div.sk-toggleable__content.fitted pre {\n",
       "  /* unfitted */\n",
       "  background-color: var(--sklearn-color-fitted-level-0);\n",
       "}\n",
       "\n",
       "#sk-container-id-5 input.sk-toggleable__control:checked~div.sk-toggleable__content {\n",
       "  /* Expand drop-down */\n",
       "  max-height: 200px;\n",
       "  max-width: 100%;\n",
       "  overflow: auto;\n",
       "}\n",
       "\n",
       "#sk-container-id-5 input.sk-toggleable__control:checked~label.sk-toggleable__label-arrow:before {\n",
       "  content: \"▾\";\n",
       "}\n",
       "\n",
       "/* Pipeline/ColumnTransformer-specific style */\n",
       "\n",
       "#sk-container-id-5 div.sk-label input.sk-toggleable__control:checked~label.sk-toggleable__label {\n",
       "  color: var(--sklearn-color-text);\n",
       "  background-color: var(--sklearn-color-unfitted-level-2);\n",
       "}\n",
       "\n",
       "#sk-container-id-5 div.sk-label.fitted input.sk-toggleable__control:checked~label.sk-toggleable__label {\n",
       "  background-color: var(--sklearn-color-fitted-level-2);\n",
       "}\n",
       "\n",
       "/* Estimator-specific style */\n",
       "\n",
       "/* Colorize estimator box */\n",
       "#sk-container-id-5 div.sk-estimator input.sk-toggleable__control:checked~label.sk-toggleable__label {\n",
       "  /* unfitted */\n",
       "  background-color: var(--sklearn-color-unfitted-level-2);\n",
       "}\n",
       "\n",
       "#sk-container-id-5 div.sk-estimator.fitted input.sk-toggleable__control:checked~label.sk-toggleable__label {\n",
       "  /* fitted */\n",
       "  background-color: var(--sklearn-color-fitted-level-2);\n",
       "}\n",
       "\n",
       "#sk-container-id-5 div.sk-label label.sk-toggleable__label,\n",
       "#sk-container-id-5 div.sk-label label {\n",
       "  /* The background is the default theme color */\n",
       "  color: var(--sklearn-color-text-on-default-background);\n",
       "}\n",
       "\n",
       "/* On hover, darken the color of the background */\n",
       "#sk-container-id-5 div.sk-label:hover label.sk-toggleable__label {\n",
       "  color: var(--sklearn-color-text);\n",
       "  background-color: var(--sklearn-color-unfitted-level-2);\n",
       "}\n",
       "\n",
       "/* Label box, darken color on hover, fitted */\n",
       "#sk-container-id-5 div.sk-label.fitted:hover label.sk-toggleable__label.fitted {\n",
       "  color: var(--sklearn-color-text);\n",
       "  background-color: var(--sklearn-color-fitted-level-2);\n",
       "}\n",
       "\n",
       "/* Estimator label */\n",
       "\n",
       "#sk-container-id-5 div.sk-label label {\n",
       "  font-family: monospace;\n",
       "  font-weight: bold;\n",
       "  display: inline-block;\n",
       "  line-height: 1.2em;\n",
       "}\n",
       "\n",
       "#sk-container-id-5 div.sk-label-container {\n",
       "  text-align: center;\n",
       "}\n",
       "\n",
       "/* Estimator-specific */\n",
       "#sk-container-id-5 div.sk-estimator {\n",
       "  font-family: monospace;\n",
       "  border: 1px dotted var(--sklearn-color-border-box);\n",
       "  border-radius: 0.25em;\n",
       "  box-sizing: border-box;\n",
       "  margin-bottom: 0.5em;\n",
       "  /* unfitted */\n",
       "  background-color: var(--sklearn-color-unfitted-level-0);\n",
       "}\n",
       "\n",
       "#sk-container-id-5 div.sk-estimator.fitted {\n",
       "  /* fitted */\n",
       "  background-color: var(--sklearn-color-fitted-level-0);\n",
       "}\n",
       "\n",
       "/* on hover */\n",
       "#sk-container-id-5 div.sk-estimator:hover {\n",
       "  /* unfitted */\n",
       "  background-color: var(--sklearn-color-unfitted-level-2);\n",
       "}\n",
       "\n",
       "#sk-container-id-5 div.sk-estimator.fitted:hover {\n",
       "  /* fitted */\n",
       "  background-color: var(--sklearn-color-fitted-level-2);\n",
       "}\n",
       "\n",
       "/* Specification for estimator info (e.g. \"i\" and \"?\") */\n",
       "\n",
       "/* Common style for \"i\" and \"?\" */\n",
       "\n",
       ".sk-estimator-doc-link,\n",
       "a:link.sk-estimator-doc-link,\n",
       "a:visited.sk-estimator-doc-link {\n",
       "  float: right;\n",
       "  font-size: smaller;\n",
       "  line-height: 1em;\n",
       "  font-family: monospace;\n",
       "  background-color: var(--sklearn-color-background);\n",
       "  border-radius: 1em;\n",
       "  height: 1em;\n",
       "  width: 1em;\n",
       "  text-decoration: none !important;\n",
       "  margin-left: 1ex;\n",
       "  /* unfitted */\n",
       "  border: var(--sklearn-color-unfitted-level-1) 1pt solid;\n",
       "  color: var(--sklearn-color-unfitted-level-1);\n",
       "}\n",
       "\n",
       ".sk-estimator-doc-link.fitted,\n",
       "a:link.sk-estimator-doc-link.fitted,\n",
       "a:visited.sk-estimator-doc-link.fitted {\n",
       "  /* fitted */\n",
       "  border: var(--sklearn-color-fitted-level-1) 1pt solid;\n",
       "  color: var(--sklearn-color-fitted-level-1);\n",
       "}\n",
       "\n",
       "/* On hover */\n",
       "div.sk-estimator:hover .sk-estimator-doc-link:hover,\n",
       ".sk-estimator-doc-link:hover,\n",
       "div.sk-label-container:hover .sk-estimator-doc-link:hover,\n",
       ".sk-estimator-doc-link:hover {\n",
       "  /* unfitted */\n",
       "  background-color: var(--sklearn-color-unfitted-level-3);\n",
       "  color: var(--sklearn-color-background);\n",
       "  text-decoration: none;\n",
       "}\n",
       "\n",
       "div.sk-estimator.fitted:hover .sk-estimator-doc-link.fitted:hover,\n",
       ".sk-estimator-doc-link.fitted:hover,\n",
       "div.sk-label-container:hover .sk-estimator-doc-link.fitted:hover,\n",
       ".sk-estimator-doc-link.fitted:hover {\n",
       "  /* fitted */\n",
       "  background-color: var(--sklearn-color-fitted-level-3);\n",
       "  color: var(--sklearn-color-background);\n",
       "  text-decoration: none;\n",
       "}\n",
       "\n",
       "/* Span, style for the box shown on hovering the info icon */\n",
       ".sk-estimator-doc-link span {\n",
       "  display: none;\n",
       "  z-index: 9999;\n",
       "  position: relative;\n",
       "  font-weight: normal;\n",
       "  right: .2ex;\n",
       "  padding: .5ex;\n",
       "  margin: .5ex;\n",
       "  width: min-content;\n",
       "  min-width: 20ex;\n",
       "  max-width: 50ex;\n",
       "  color: var(--sklearn-color-text);\n",
       "  box-shadow: 2pt 2pt 4pt #999;\n",
       "  /* unfitted */\n",
       "  background: var(--sklearn-color-unfitted-level-0);\n",
       "  border: .5pt solid var(--sklearn-color-unfitted-level-3);\n",
       "}\n",
       "\n",
       ".sk-estimator-doc-link.fitted span {\n",
       "  /* fitted */\n",
       "  background: var(--sklearn-color-fitted-level-0);\n",
       "  border: var(--sklearn-color-fitted-level-3);\n",
       "}\n",
       "\n",
       ".sk-estimator-doc-link:hover span {\n",
       "  display: block;\n",
       "}\n",
       "\n",
       "/* \"?\"-specific style due to the `<a>` HTML tag */\n",
       "\n",
       "#sk-container-id-5 a.estimator_doc_link {\n",
       "  float: right;\n",
       "  font-size: 1rem;\n",
       "  line-height: 1em;\n",
       "  font-family: monospace;\n",
       "  background-color: var(--sklearn-color-background);\n",
       "  border-radius: 1rem;\n",
       "  height: 1rem;\n",
       "  width: 1rem;\n",
       "  text-decoration: none;\n",
       "  /* unfitted */\n",
       "  color: var(--sklearn-color-unfitted-level-1);\n",
       "  border: var(--sklearn-color-unfitted-level-1) 1pt solid;\n",
       "}\n",
       "\n",
       "#sk-container-id-5 a.estimator_doc_link.fitted {\n",
       "  /* fitted */\n",
       "  border: var(--sklearn-color-fitted-level-1) 1pt solid;\n",
       "  color: var(--sklearn-color-fitted-level-1);\n",
       "}\n",
       "\n",
       "/* On hover */\n",
       "#sk-container-id-5 a.estimator_doc_link:hover {\n",
       "  /* unfitted */\n",
       "  background-color: var(--sklearn-color-unfitted-level-3);\n",
       "  color: var(--sklearn-color-background);\n",
       "  text-decoration: none;\n",
       "}\n",
       "\n",
       "#sk-container-id-5 a.estimator_doc_link.fitted:hover {\n",
       "  /* fitted */\n",
       "  background-color: var(--sklearn-color-fitted-level-3);\n",
       "}\n",
       "</style><div id=\"sk-container-id-5\" class=\"sk-top-container\"><div class=\"sk-text-repr-fallback\"><pre>Lasso(alpha=751.3241676338966)</pre><b>In a Jupyter environment, please rerun this cell to show the HTML representation or trust the notebook. <br />On GitHub, the HTML representation is unable to render, please try loading this page with nbviewer.org.</b></div><div class=\"sk-container\" hidden><div class=\"sk-item\"><div class=\"sk-estimator fitted sk-toggleable\"><input class=\"sk-toggleable__control sk-hidden--visually\" id=\"sk-estimator-id-5\" type=\"checkbox\" checked><label for=\"sk-estimator-id-5\" class=\"sk-toggleable__label fitted sk-toggleable__label-arrow fitted\">&nbsp;&nbsp;Lasso<a class=\"sk-estimator-doc-link fitted\" rel=\"noreferrer\" target=\"_blank\" href=\"https://scikit-learn.org/1.5/modules/generated/sklearn.linear_model.Lasso.html\">?<span>Documentation for Lasso</span></a><span class=\"sk-estimator-doc-link fitted\">i<span>Fitted</span></span></label><div class=\"sk-toggleable__content fitted\"><pre>Lasso(alpha=751.3241676338966)</pre></div> </div></div></div></div>"
      ],
      "text/plain": [
       "Lasso(alpha=751.3241676338966)"
      ]
     },
     "execution_count": 54,
     "metadata": {},
     "output_type": "execute_result"
    }
   ],
   "source": [
    "blending_final = Lasso(alpha=best_alpha)\n",
    "blending_final.fit(preds_train, y_train)"
   ]
  },
  {
   "cell_type": "code",
   "execution_count": 55,
   "metadata": {
    "execution": {
     "iopub.execute_input": "2024-10-29T18:16:29.548877Z",
     "iopub.status.busy": "2024-10-29T18:16:29.547992Z",
     "iopub.status.idle": "2024-10-29T18:16:29.556215Z",
     "shell.execute_reply": "2024-10-29T18:16:29.555011Z",
     "shell.execute_reply.started": "2024-10-29T18:16:29.548825Z"
    },
    "trusted": true
   },
   "outputs": [],
   "source": [
    "test_predictions = blending_final.predict(preds_test)"
   ]
  },
  {
   "cell_type": "code",
   "execution_count": 56,
   "metadata": {},
   "outputs": [
    {
     "name": "stdout",
     "output_type": "stream",
     "text": [
      "[0.18171286 0.18171286 0.18171286 0.18171286 0.18171286 0.18171286\n",
      " 0.18171286 0.18171286 0.18171286 0.18171286]\n",
      "[0 0 0 0 0 0 0 0 0 0]\n"
     ]
    }
   ],
   "source": [
    "print(test_predictions[0:10])\n",
    "\n",
    "# Define threshold (default is 0.5, but you can tune this)\n",
    "threshold = 0.5\n",
    "\n",
    "# Convert continuous predictions to binary classes\n",
    "binary_predictions = (test_predictions >= threshold).astype(int)\n",
    "\n",
    "print(binary_predictions[0:10])"
   ]
  },
  {
   "cell_type": "markdown",
   "metadata": {},
   "source": [
    "# AutoGloun"
   ]
  },
  {
   "cell_type": "code",
   "execution_count": null,
   "metadata": {},
   "outputs": [],
   "source": [
    "#from imblearn.under_sampling import RandomUnderSampler\n",
    "from sklearn.model_selection import train_test_split\n",
    "import pandas as pd\n",
    "\n",
    "# Splitting the dataset into train and test\n",
    "X = train \n",
    "y = train['Depression'] #asdaddsdw\n",
    "\n",
    "X_train, X_test, y_train, y_test = train_test_split(X, y, test_size=0.2, random_state=42) #2432534\n",
    "# X_train, X_test = train_test_split(X, test_size=0.2, random_state=42)\n",
    "\n",
    "#undersampler = RandomUnderSampler() #asdasd\n",
    "#X_resampled, _ = undersampler.fit_resample(X_train, y_train) #asdadsa\n",
    "\n",
    "# Save DataFrame to a specific path as a CSV file\n",
    "X.to_csv(\"D:/Freelancer Projects/Kaggle Comp/playground-series-s4e11/X_train.csv\", index=False)\n",
    "X_test.to_csv(\"D:/Freelancer Projects/Kaggle Comp/playground-series-s4e11/X_test.csv\", index=False)"
   ]
  },
  {
   "cell_type": "code",
   "execution_count": 4,
   "metadata": {},
   "outputs": [
    {
     "name": "stderr",
     "output_type": "stream",
     "text": [
      "d:\\python\\envs\\ag\\lib\\site-packages\\tqdm\\auto.py:21: TqdmWarning: IProgress not found. Please update jupyter and ipywidgets. See https://ipywidgets.readthedocs.io/en/stable/user_install.html\n",
      "  from .autonotebook import tqdm as notebook_tqdm\n"
     ]
    },
    {
     "data": {
      "text/html": [
       "<div>\n",
       "<style scoped>\n",
       "    .dataframe tbody tr th:only-of-type {\n",
       "        vertical-align: middle;\n",
       "    }\n",
       "\n",
       "    .dataframe tbody tr th {\n",
       "        vertical-align: top;\n",
       "    }\n",
       "\n",
       "    .dataframe thead th {\n",
       "        text-align: right;\n",
       "    }\n",
       "</style>\n",
       "<table border=\"1\" class=\"dataframe\">\n",
       "  <thead>\n",
       "    <tr style=\"text-align: right;\">\n",
       "      <th></th>\n",
       "      <th>Name</th>\n",
       "      <th>Gender</th>\n",
       "      <th>Age</th>\n",
       "      <th>City</th>\n",
       "      <th>Working Professional or Student</th>\n",
       "      <th>Profession</th>\n",
       "      <th>Academic Pressure</th>\n",
       "      <th>Work Pressure</th>\n",
       "      <th>CGPA</th>\n",
       "      <th>Study Satisfaction</th>\n",
       "      <th>Job Satisfaction</th>\n",
       "      <th>Sleep Duration</th>\n",
       "      <th>Dietary Habits</th>\n",
       "      <th>Degree</th>\n",
       "      <th>Have you ever had suicidal thoughts ?</th>\n",
       "      <th>Work/Study Hours</th>\n",
       "      <th>Financial Stress</th>\n",
       "      <th>Family History of Mental Illness</th>\n",
       "      <th>Depression</th>\n",
       "    </tr>\n",
       "  </thead>\n",
       "  <tbody>\n",
       "    <tr>\n",
       "      <th>0</th>\n",
       "      <td>Aaradhya</td>\n",
       "      <td>Female</td>\n",
       "      <td>49.0</td>\n",
       "      <td>Ludhiana</td>\n",
       "      <td>Working Professional</td>\n",
       "      <td>Chef</td>\n",
       "      <td>NaN</td>\n",
       "      <td>5.0</td>\n",
       "      <td>NaN</td>\n",
       "      <td>NaN</td>\n",
       "      <td>2.0</td>\n",
       "      <td>More than 8 hours</td>\n",
       "      <td>Healthy</td>\n",
       "      <td>BHM</td>\n",
       "      <td>No</td>\n",
       "      <td>1.0</td>\n",
       "      <td>2.0</td>\n",
       "      <td>No</td>\n",
       "      <td>0</td>\n",
       "    </tr>\n",
       "    <tr>\n",
       "      <th>1</th>\n",
       "      <td>Vivan</td>\n",
       "      <td>Male</td>\n",
       "      <td>26.0</td>\n",
       "      <td>Varanasi</td>\n",
       "      <td>Working Professional</td>\n",
       "      <td>Teacher</td>\n",
       "      <td>NaN</td>\n",
       "      <td>4.0</td>\n",
       "      <td>NaN</td>\n",
       "      <td>NaN</td>\n",
       "      <td>3.0</td>\n",
       "      <td>Less than 5 hours</td>\n",
       "      <td>Unhealthy</td>\n",
       "      <td>LLB</td>\n",
       "      <td>Yes</td>\n",
       "      <td>7.0</td>\n",
       "      <td>3.0</td>\n",
       "      <td>No</td>\n",
       "      <td>1</td>\n",
       "    </tr>\n",
       "    <tr>\n",
       "      <th>2</th>\n",
       "      <td>Yuvraj</td>\n",
       "      <td>Male</td>\n",
       "      <td>33.0</td>\n",
       "      <td>Visakhapatnam</td>\n",
       "      <td>Student</td>\n",
       "      <td>NaN</td>\n",
       "      <td>5.0</td>\n",
       "      <td>NaN</td>\n",
       "      <td>8.97</td>\n",
       "      <td>2.0</td>\n",
       "      <td>NaN</td>\n",
       "      <td>5-6 hours</td>\n",
       "      <td>Healthy</td>\n",
       "      <td>B.Pharm</td>\n",
       "      <td>Yes</td>\n",
       "      <td>3.0</td>\n",
       "      <td>1.0</td>\n",
       "      <td>No</td>\n",
       "      <td>1</td>\n",
       "    </tr>\n",
       "    <tr>\n",
       "      <th>3</th>\n",
       "      <td>Yuvraj</td>\n",
       "      <td>Male</td>\n",
       "      <td>22.0</td>\n",
       "      <td>Mumbai</td>\n",
       "      <td>Working Professional</td>\n",
       "      <td>Teacher</td>\n",
       "      <td>NaN</td>\n",
       "      <td>5.0</td>\n",
       "      <td>NaN</td>\n",
       "      <td>NaN</td>\n",
       "      <td>1.0</td>\n",
       "      <td>Less than 5 hours</td>\n",
       "      <td>Moderate</td>\n",
       "      <td>BBA</td>\n",
       "      <td>Yes</td>\n",
       "      <td>10.0</td>\n",
       "      <td>1.0</td>\n",
       "      <td>Yes</td>\n",
       "      <td>1</td>\n",
       "    </tr>\n",
       "    <tr>\n",
       "      <th>4</th>\n",
       "      <td>Rhea</td>\n",
       "      <td>Female</td>\n",
       "      <td>30.0</td>\n",
       "      <td>Kanpur</td>\n",
       "      <td>Working Professional</td>\n",
       "      <td>Business Analyst</td>\n",
       "      <td>NaN</td>\n",
       "      <td>1.0</td>\n",
       "      <td>NaN</td>\n",
       "      <td>NaN</td>\n",
       "      <td>1.0</td>\n",
       "      <td>5-6 hours</td>\n",
       "      <td>Unhealthy</td>\n",
       "      <td>BBA</td>\n",
       "      <td>Yes</td>\n",
       "      <td>9.0</td>\n",
       "      <td>4.0</td>\n",
       "      <td>Yes</td>\n",
       "      <td>0</td>\n",
       "    </tr>\n",
       "  </tbody>\n",
       "</table>\n",
       "</div>"
      ],
      "text/plain": [
       "       Name  Gender   Age           City Working Professional or Student  \\\n",
       "0  Aaradhya  Female  49.0       Ludhiana            Working Professional   \n",
       "1     Vivan    Male  26.0       Varanasi            Working Professional   \n",
       "2    Yuvraj    Male  33.0  Visakhapatnam                         Student   \n",
       "3    Yuvraj    Male  22.0         Mumbai            Working Professional   \n",
       "4      Rhea  Female  30.0         Kanpur            Working Professional   \n",
       "\n",
       "         Profession  Academic Pressure  Work Pressure  CGPA  \\\n",
       "0              Chef                NaN            5.0   NaN   \n",
       "1           Teacher                NaN            4.0   NaN   \n",
       "2               NaN                5.0            NaN  8.97   \n",
       "3           Teacher                NaN            5.0   NaN   \n",
       "4  Business Analyst                NaN            1.0   NaN   \n",
       "\n",
       "   Study Satisfaction  Job Satisfaction     Sleep Duration Dietary Habits  \\\n",
       "0                 NaN               2.0  More than 8 hours        Healthy   \n",
       "1                 NaN               3.0  Less than 5 hours      Unhealthy   \n",
       "2                 2.0               NaN          5-6 hours        Healthy   \n",
       "3                 NaN               1.0  Less than 5 hours       Moderate   \n",
       "4                 NaN               1.0          5-6 hours      Unhealthy   \n",
       "\n",
       "    Degree Have you ever had suicidal thoughts ?  Work/Study Hours  \\\n",
       "0      BHM                                    No               1.0   \n",
       "1      LLB                                   Yes               7.0   \n",
       "2  B.Pharm                                   Yes               3.0   \n",
       "3      BBA                                   Yes              10.0   \n",
       "4      BBA                                   Yes               9.0   \n",
       "\n",
       "   Financial Stress Family History of Mental Illness  Depression  \n",
       "0               2.0                               No           0  \n",
       "1               3.0                               No           1  \n",
       "2               1.0                               No           1  \n",
       "3               1.0                              Yes           1  \n",
       "4               4.0                              Yes           0  "
      ]
     },
     "execution_count": 4,
     "metadata": {},
     "output_type": "execute_result"
    }
   ],
   "source": [
    "from autogluon.tabular import TabularDataset, TabularPredictor\n",
    "\n",
    "data_url = 'D:/Freelancer Projects/Kaggle Comp/playground-series-s4e11/'\n",
    "train_data = TabularDataset(f'{data_url}X_train.csv')\n",
    "train_data.head()"
   ]
  },
  {
   "cell_type": "code",
   "execution_count": null,
   "metadata": {},
   "outputs": [
    {
     "name": "stderr",
     "output_type": "stream",
     "text": [
      "No path specified. Models will be saved in: \"AutogluonModels\\ag-20241125_162152\\\"\n",
      "d:\\python\\envs\\ag\\lib\\site-packages\\autogluon\\core\\utils\\utils.py:549: FutureWarning: use_inf_as_na option is deprecated and will be removed in a future version. Convert inf values to NaN before operating instead.\n",
      "  with pd.option_context(\"mode.use_inf_as_na\", True):  # treat None, NaN, INF, NINF as NA\n",
      "Warning: Training may take a very long time because `time_limit` was not specified and `train_data` is large (140700 samples, 99.73 MB).\n",
      "\tConsider setting `time_limit` to ensure training finishes within an expected duration or experiment with a small portion of `train_data` to identify an ideal `presets` and `hyperparameters` configuration.\n",
      "Beginning AutoGluon training ...\n",
      "AutoGluon will save models to \"AutogluonModels\\ag-20241125_162152\\\"\n",
      "AutoGluon Version:  0.8.3\n",
      "Python Version:     3.10.14\n",
      "Operating System:   Windows\n",
      "Platform Machine:   AMD64\n",
      "Platform Version:   10.0.19045\n",
      "Disk Space Avail:   44.32 GB / 370.34 GB (12.0%)\n",
      "Train Data Rows:    140700\n",
      "Train Data Columns: 18\n",
      "Label Column: Depression\n",
      "Preprocessing data ...\n",
      "d:\\python\\envs\\ag\\lib\\site-packages\\autogluon\\core\\utils\\utils.py:549: FutureWarning: use_inf_as_na option is deprecated and will be removed in a future version. Convert inf values to NaN before operating instead.\n",
      "  with pd.option_context(\"mode.use_inf_as_na\", True):  # treat None, NaN, INF, NINF as NA\n",
      "AutoGluon infers your prediction problem is: 'binary' (because only two unique label-values observed).\n",
      "\t2 unique label values:  [0, 1]\n",
      "\tIf 'binary' is not the correct problem_type, please manually specify the problem_type parameter during predictor init (You may specify problem_type as one of: ['binary', 'multiclass', 'regression'])\n",
      "d:\\python\\envs\\ag\\lib\\site-packages\\autogluon\\tabular\\learner\\default_learner.py:215: FutureWarning: use_inf_as_na option is deprecated and will be removed in a future version. Convert inf values to NaN before operating instead.\n",
      "  with pd.option_context(\"mode.use_inf_as_na\", True):  # treat None, NaN, INF, NINF as NA\n",
      "Selected class <--> label mapping:  class 1 = 1, class 0 = 0\n",
      "Using Feature Generators to preprocess the data ...\n",
      "Fitting AutoMLPipelineFeatureGenerator...\n",
      "\tAvailable Memory:                    9698.61 MB\n",
      "\tTrain Data (Original)  Memory Usage: 98.61 MB (1.0% of available memory)\n",
      "\tInferring data type of each feature based on column values. Set feature_metadata_in to manually specify special dtypes of the features.\n",
      "d:\\python\\envs\\ag\\lib\\site-packages\\autogluon\\common\\features\\infer_types.py:118: UserWarning: Could not infer format, so each element will be parsed individually, falling back to `dateutil`. To ensure parsing is consistent and as-expected, please specify a format.\n",
      "  result = pd.to_datetime(X, errors=\"coerce\")\n",
      "d:\\python\\envs\\ag\\lib\\site-packages\\autogluon\\common\\features\\infer_types.py:118: UserWarning: Could not infer format, so each element will be parsed individually, falling back to `dateutil`. To ensure parsing is consistent and as-expected, please specify a format.\n",
      "  result = pd.to_datetime(X, errors=\"coerce\")\n",
      "d:\\python\\envs\\ag\\lib\\site-packages\\autogluon\\common\\features\\infer_types.py:118: UserWarning: Could not infer format, so each element will be parsed individually, falling back to `dateutil`. To ensure parsing is consistent and as-expected, please specify a format.\n",
      "  result = pd.to_datetime(X, errors=\"coerce\")\n",
      "d:\\python\\envs\\ag\\lib\\site-packages\\autogluon\\common\\features\\infer_types.py:118: UserWarning: Could not infer format, so each element will be parsed individually, falling back to `dateutil`. To ensure parsing is consistent and as-expected, please specify a format.\n",
      "  result = pd.to_datetime(X, errors=\"coerce\")\n",
      "d:\\python\\envs\\ag\\lib\\site-packages\\autogluon\\common\\features\\infer_types.py:118: UserWarning: Could not infer format, so each element will be parsed individually, falling back to `dateutil`. To ensure parsing is consistent and as-expected, please specify a format.\n",
      "  result = pd.to_datetime(X, errors=\"coerce\")\n",
      "d:\\python\\envs\\ag\\lib\\site-packages\\autogluon\\common\\features\\infer_types.py:118: UserWarning: Could not infer format, so each element will be parsed individually, falling back to `dateutil`. To ensure parsing is consistent and as-expected, please specify a format.\n",
      "  result = pd.to_datetime(X, errors=\"coerce\")\n",
      "d:\\python\\envs\\ag\\lib\\site-packages\\autogluon\\common\\features\\infer_types.py:118: UserWarning: Could not infer format, so each element will be parsed individually, falling back to `dateutil`. To ensure parsing is consistent and as-expected, please specify a format.\n",
      "  result = pd.to_datetime(X, errors=\"coerce\")\n",
      "d:\\python\\envs\\ag\\lib\\site-packages\\autogluon\\common\\features\\infer_types.py:118: UserWarning: Could not infer format, so each element will be parsed individually, falling back to `dateutil`. To ensure parsing is consistent and as-expected, please specify a format.\n",
      "  result = pd.to_datetime(X, errors=\"coerce\")\n",
      "d:\\python\\envs\\ag\\lib\\site-packages\\autogluon\\common\\features\\infer_types.py:118: UserWarning: Could not infer format, so each element will be parsed individually, falling back to `dateutil`. To ensure parsing is consistent and as-expected, please specify a format.\n",
      "  result = pd.to_datetime(X, errors=\"coerce\")\n",
      "d:\\python\\envs\\ag\\lib\\site-packages\\autogluon\\common\\features\\infer_types.py:118: UserWarning: Could not infer format, so each element will be parsed individually, falling back to `dateutil`. To ensure parsing is consistent and as-expected, please specify a format.\n",
      "  result = pd.to_datetime(X, errors=\"coerce\")\n",
      "\tStage 1 Generators:\n",
      "\t\tFitting AsTypeFeatureGenerator...\n",
      "\t\t\tNote: Converting 4 features to boolean dtype as they only contain 2 unique values.\n",
      "\tStage 2 Generators:\n",
      "\t\tFitting FillNaFeatureGenerator...\n",
      "d:\\python\\envs\\ag\\lib\\site-packages\\autogluon\\features\\generators\\fillna.py:58: FutureWarning: The 'downcast' keyword in fillna is deprecated and will be removed in a future version. Use res.infer_objects(copy=False) to infer non-object dtype, or pd.to_numeric with the 'downcast' keyword to downcast numeric results.\n",
      "  X.fillna(self._fillna_feature_map, inplace=True, downcast=False)\n",
      "\tStage 3 Generators:\n",
      "\t\tFitting IdentityFeatureGenerator...\n",
      "\t\tFitting CategoryFeatureGenerator...\n",
      "\t\t\tFitting CategoryMemoryMinimizeFeatureGenerator...\n",
      "\tStage 4 Generators:\n",
      "\t\tFitting DropUniqueFeatureGenerator...\n",
      "\tStage 5 Generators:\n",
      "\t\tFitting DropDuplicatesFeatureGenerator...\n",
      "\tTypes of features in original data (raw dtype, special dtypes):\n",
      "\t\t('float', [])  :  8 | ['Age', 'Academic Pressure', 'Work Pressure', 'CGPA', 'Study Satisfaction', ...]\n",
      "\t\t('object', []) : 10 | ['Name', 'Gender', 'City', 'Working Professional or Student', 'Profession', ...]\n",
      "\tTypes of features in processed data (raw dtype, special dtypes):\n",
      "\t\t('category', [])  : 6 | ['Name', 'City', 'Profession', 'Sleep Duration', 'Dietary Habits', ...]\n",
      "\t\t('float', [])     : 8 | ['Age', 'Academic Pressure', 'Work Pressure', 'CGPA', 'Study Satisfaction', ...]\n",
      "\t\t('int', ['bool']) : 4 | ['Gender', 'Working Professional or Student', 'Have you ever had suicidal thoughts ?', 'Family History of Mental Illness']\n",
      "\t1.2s = Fit runtime\n",
      "\t18 features in original data used to generate 18 features in processed data.\n",
      "d:\\python\\envs\\ag\\lib\\site-packages\\autogluon\\common\\utils\\pandas_utils.py:50: FutureWarning: Setting an item of incompatible dtype is deprecated and will raise in a future error of pandas. Value '282037.387755102' has dtype incompatible with int64, please explicitly cast to a compatible dtype first.\n",
      "  memory_usage[column] = (\n",
      "\tTrain Data (Processed) Memory Usage: 10.56 MB (0.1% of available memory)\n",
      "Data preprocessing and feature engineering runtime = 1.27s ...\n",
      "AutoGluon will gauge predictive performance using evaluation metric: 'f1'\n",
      "\tTo change this, specify the eval_metric parameter of Predictor()\n",
      "Automatically generating train/validation split with holdout_frac=0.017768301350390904, Train Rows: 138200, Val Rows: 2500\n",
      "User-specified model hyperparameters to be fit:\n",
      "{\n",
      "\t'NN_TORCH': {},\n",
      "\t'GBM': [{'extra_trees': True, 'ag_args': {'name_suffix': 'XT'}}, {}, 'GBMLarge'],\n",
      "\t'CAT': {},\n",
      "\t'XGB': {},\n",
      "\t'FASTAI': {},\n",
      "\t'RF': [{'criterion': 'gini', 'ag_args': {'name_suffix': 'Gini', 'problem_types': ['binary', 'multiclass']}}, {'criterion': 'entropy', 'ag_args': {'name_suffix': 'Entr', 'problem_types': ['binary', 'multiclass']}}, {'criterion': 'squared_error', 'ag_args': {'name_suffix': 'MSE', 'problem_types': ['regression', 'quantile']}}],\n",
      "\t'XT': [{'criterion': 'gini', 'ag_args': {'name_suffix': 'Gini', 'problem_types': ['binary', 'multiclass']}}, {'criterion': 'entropy', 'ag_args': {'name_suffix': 'Entr', 'problem_types': ['binary', 'multiclass']}}, {'criterion': 'squared_error', 'ag_args': {'name_suffix': 'MSE', 'problem_types': ['regression', 'quantile']}}],\n",
      "\t'KNN': [{'weights': 'uniform', 'ag_args': {'name_suffix': 'Unif'}}, {'weights': 'distance', 'ag_args': {'name_suffix': 'Dist'}}],\n",
      "}\n",
      "Fitting 13 L1 models ...\n",
      "Fitting model: KNeighborsUnif ...\n",
      "\t0.7452\t = Validation score   (f1)\n",
      "\t8.83s\t = Training   runtime\n",
      "\t0.17s\t = Validation runtime\n",
      "Fitting model: KNeighborsDist ...\n",
      "\t0.7271\t = Validation score   (f1)\n",
      "\t0.6s\t = Training   runtime\n",
      "\t0.15s\t = Validation runtime\n",
      "Fitting model: LightGBMXT ...\n",
      "d:\\python\\envs\\ag\\lib\\site-packages\\autogluon\\common\\utils\\pandas_utils.py:50: FutureWarning: Setting an item of incompatible dtype is deprecated and will raise in a future error of pandas. Value '277037.387755102' has dtype incompatible with int64, please explicitly cast to a compatible dtype first.\n",
      "  memory_usage[column] = (\n",
      "d:\\python\\envs\\ag\\lib\\site-packages\\dask\\dataframe\\__init__.py:42: FutureWarning: \n",
      "Dask dataframe query planning is disabled because dask-expr is not installed.\n",
      "\n",
      "You can install it with `pip install dask[dataframe]` or `conda install dask`.\n",
      "This will raise in a future version.\n",
      "\n",
      "  warnings.warn(msg, FutureWarning)\n",
      "\t0.8418\t = Validation score   (f1)\n",
      "\t5.39s\t = Training   runtime\n",
      "\t0.02s\t = Validation runtime\n",
      "Fitting model: LightGBM ...\n",
      "d:\\python\\envs\\ag\\lib\\site-packages\\autogluon\\common\\utils\\pandas_utils.py:50: FutureWarning: Setting an item of incompatible dtype is deprecated and will raise in a future error of pandas. Value '277037.387755102' has dtype incompatible with int64, please explicitly cast to a compatible dtype first.\n",
      "  memory_usage[column] = (\n",
      "\t0.8442\t = Validation score   (f1)\n",
      "\t1.99s\t = Training   runtime\n",
      "\t0.02s\t = Validation runtime\n",
      "Fitting model: RandomForestGini ...\n",
      "\t0.8343\t = Validation score   (f1)\n",
      "\t15.47s\t = Training   runtime\n",
      "\t0.1s\t = Validation runtime\n",
      "Fitting model: RandomForestEntr ...\n",
      "\t0.8331\t = Validation score   (f1)\n",
      "\t16.31s\t = Training   runtime\n",
      "\t0.1s\t = Validation runtime\n",
      "Fitting model: CatBoost ...\n",
      "d:\\python\\envs\\ag\\lib\\site-packages\\autogluon\\common\\utils\\pandas_utils.py:50: FutureWarning: Setting an item of incompatible dtype is deprecated and will raise in a future error of pandas. Value '277037.387755102' has dtype incompatible with int64, please explicitly cast to a compatible dtype first.\n",
      "  memory_usage[column] = (\n",
      "\t0.8418\t = Validation score   (f1)\n",
      "\t293.07s\t = Training   runtime\n",
      "\t0.06s\t = Validation runtime\n",
      "Fitting model: ExtraTreesGini ...\n",
      "\t0.8362\t = Validation score   (f1)\n",
      "\t12.29s\t = Training   runtime\n",
      "\t0.12s\t = Validation runtime\n",
      "Fitting model: ExtraTreesEntr ...\n",
      "\t0.8219\t = Validation score   (f1)\n",
      "\t12.87s\t = Training   runtime\n",
      "\t0.12s\t = Validation runtime\n",
      "Fitting model: NeuralNetFastAI ...\n",
      "d:\\python\\envs\\ag\\lib\\site-packages\\autogluon\\common\\utils\\pandas_utils.py:50: FutureWarning: Setting an item of incompatible dtype is deprecated and will raise in a future error of pandas. Value '277037.387755102' has dtype incompatible with int64, please explicitly cast to a compatible dtype first.\n",
      "  memory_usage[column] = (\n",
      "d:\\python\\envs\\ag\\lib\\site-packages\\autogluon\\tabular\\models\\fastainn\\tabular_nn_fastai.py:190: FutureWarning: The 'downcast' keyword in fillna is deprecated and will be removed in a future version. Use res.infer_objects(copy=False) to infer non-object dtype, or pd.to_numeric with the 'downcast' keyword to downcast numeric results.\n",
      "  df = df.fillna(column_fills, inplace=False, downcast=False)\n",
      "d:\\python\\envs\\ag\\lib\\site-packages\\autogluon\\tabular\\models\\fastainn\\tabular_nn_fastai.py:190: FutureWarning: The 'downcast' keyword in fillna is deprecated and will be removed in a future version. Use res.infer_objects(copy=False) to infer non-object dtype, or pd.to_numeric with the 'downcast' keyword to downcast numeric results.\n",
      "  df = df.fillna(column_fills, inplace=False, downcast=False)\n",
      "d:\\python\\envs\\ag\\lib\\site-packages\\autogluon\\tabular\\models\\fastainn\\tabular_nn_fastai.py:190: FutureWarning: The 'downcast' keyword in fillna is deprecated and will be removed in a future version. Use res.infer_objects(copy=False) to infer non-object dtype, or pd.to_numeric with the 'downcast' keyword to downcast numeric results.\n",
      "  df = df.fillna(column_fills, inplace=False, downcast=False)\n",
      "\t0.8534\t = Validation score   (f1)\n",
      "\t240.77s\t = Training   runtime\n",
      "\t0.08s\t = Validation runtime\n",
      "Fitting model: XGBoost ...\n",
      "d:\\python\\envs\\ag\\lib\\site-packages\\autogluon\\common\\utils\\pandas_utils.py:50: FutureWarning: Setting an item of incompatible dtype is deprecated and will raise in a future error of pandas. Value '277037.387755102' has dtype incompatible with int64, please explicitly cast to a compatible dtype first.\n",
      "  memory_usage[column] = (\n",
      "\t0.8527\t = Validation score   (f1)\n",
      "\t9.36s\t = Training   runtime\n",
      "\t0.04s\t = Validation runtime\n",
      "Fitting model: NeuralNetTorch ...\n",
      "d:\\python\\envs\\ag\\lib\\site-packages\\autogluon\\common\\utils\\pandas_utils.py:50: FutureWarning: Setting an item of incompatible dtype is deprecated and will raise in a future error of pandas. Value '277037.387755102' has dtype incompatible with int64, please explicitly cast to a compatible dtype first.\n",
      "  memory_usage[column] = (\n",
      "\t0.8434\t = Validation score   (f1)\n",
      "\t104.57s\t = Training   runtime\n",
      "\t0.03s\t = Validation runtime\n",
      "Fitting model: LightGBMLarge ...\n",
      "d:\\python\\envs\\ag\\lib\\site-packages\\autogluon\\common\\utils\\pandas_utils.py:50: FutureWarning: Setting an item of incompatible dtype is deprecated and will raise in a future error of pandas. Value '277037.387755102' has dtype incompatible with int64, please explicitly cast to a compatible dtype first.\n",
      "  memory_usage[column] = (\n",
      "\t0.8455\t = Validation score   (f1)\n",
      "\t3.53s\t = Training   runtime\n",
      "\t0.03s\t = Validation runtime\n",
      "Fitting model: WeightedEnsemble_L2 ...\n",
      "\t0.8616\t = Validation score   (f1)\n",
      "\t5.23s\t = Training   runtime\n",
      "\t0.01s\t = Validation runtime\n",
      "AutoGluon training complete, total runtime = 736.1s ... Best model: \"WeightedEnsemble_L2\"\n",
      "TabularPredictor saved. To load, use: predictor = TabularPredictor.load(\"AutogluonModels\\ag-20241125_162152\\\")\n"
     ]
    }
   ],
   "source": [
    "label = 'Depression'\n",
    "\n",
    "# Initialize and train the AutoGluon TabularPredictor\n",
    "predictor = TabularPredictor(label=label, eval_metric = 'f1').fit(\n",
    "    train_data=train_data,\n",
    "    presets='good_quality',  # Preset for higher accuracy, can adjust to 'medium_quality_faster_train' for faster training\n",
    "    verbosity=2        # Verbosity level for detailed output\n",
    ")"
   ]
  },
  {
   "cell_type": "code",
   "execution_count": 8,
   "metadata": {},
   "outputs": [
    {
     "name": "stderr",
     "output_type": "stream",
     "text": [
      "Loaded data from: D:/Freelancer Projects/Kaggle Comp/playground-series-s4e11/X_test.csv | Columns = 19 / 19 | Rows = 28140 -> 28140\n",
      "d:\\python\\envs\\ag\\lib\\site-packages\\autogluon\\features\\generators\\fillna.py:58: FutureWarning: The 'downcast' keyword in fillna is deprecated and will be removed in a future version. Use res.infer_objects(copy=False) to infer non-object dtype, or pd.to_numeric with the 'downcast' keyword to downcast numeric results.\n",
      "  X.fillna(self._fillna_feature_map, inplace=True, downcast=False)\n",
      "d:\\python\\envs\\ag\\lib\\site-packages\\autogluon\\tabular\\models\\fastainn\\tabular_nn_fastai.py:190: FutureWarning: The 'downcast' keyword in fillna is deprecated and will be removed in a future version. Use res.infer_objects(copy=False) to infer non-object dtype, or pd.to_numeric with the 'downcast' keyword to downcast numeric results.\n",
      "  df = df.fillna(column_fills, inplace=False, downcast=False)\n"
     ]
    },
    {
     "data": {
      "text/plain": [
       "0    0\n",
       "1    0\n",
       "2    0\n",
       "3    0\n",
       "4    0\n",
       "Name: Depression, dtype: int64"
      ]
     },
     "execution_count": 8,
     "metadata": {},
     "output_type": "execute_result"
    }
   ],
   "source": [
    "test_data = TabularDataset(f'{data_url}X_test.csv')\n",
    "\n",
    "y_pred = predictor.predict(test_data)\n",
    "y_pred.head()"
   ]
  },
  {
   "cell_type": "markdown",
   "metadata": {},
   "source": [
    "# 8. Submission"
   ]
  },
  {
   "cell_type": "code",
   "execution_count": 28,
   "metadata": {
    "execution": {
     "iopub.execute_input": "2024-10-29T18:17:32.543572Z",
     "iopub.status.busy": "2024-10-29T18:17:32.54307Z",
     "iopub.status.idle": "2024-10-29T18:17:32.683671Z",
     "shell.execute_reply": "2024-10-29T18:17:32.682667Z",
     "shell.execute_reply.started": "2024-10-29T18:17:32.543521Z"
    },
    "trusted": true
   },
   "outputs": [
    {
     "data": {
      "text/html": [
       "<div>\n",
       "<style scoped>\n",
       "    .dataframe tbody tr th:only-of-type {\n",
       "        vertical-align: middle;\n",
       "    }\n",
       "\n",
       "    .dataframe tbody tr th {\n",
       "        vertical-align: top;\n",
       "    }\n",
       "\n",
       "    .dataframe thead th {\n",
       "        text-align: right;\n",
       "    }\n",
       "</style>\n",
       "<table border=\"1\" class=\"dataframe\">\n",
       "  <thead>\n",
       "    <tr style=\"text-align: right;\">\n",
       "      <th></th>\n",
       "      <th>id</th>\n",
       "      <th>Depression</th>\n",
       "    </tr>\n",
       "  </thead>\n",
       "  <tbody>\n",
       "    <tr>\n",
       "      <th>0</th>\n",
       "      <td>140700</td>\n",
       "      <td>0</td>\n",
       "    </tr>\n",
       "    <tr>\n",
       "      <th>1</th>\n",
       "      <td>140701</td>\n",
       "      <td>0</td>\n",
       "    </tr>\n",
       "    <tr>\n",
       "      <th>2</th>\n",
       "      <td>140702</td>\n",
       "      <td>0</td>\n",
       "    </tr>\n",
       "    <tr>\n",
       "      <th>3</th>\n",
       "      <td>140703</td>\n",
       "      <td>1</td>\n",
       "    </tr>\n",
       "    <tr>\n",
       "      <th>4</th>\n",
       "      <td>140704</td>\n",
       "      <td>0</td>\n",
       "    </tr>\n",
       "  </tbody>\n",
       "</table>\n",
       "</div>"
      ],
      "text/plain": [
       "       id  Depression\n",
       "0  140700           0\n",
       "1  140701           0\n",
       "2  140702           0\n",
       "3  140703           1\n",
       "4  140704           0"
      ]
     },
     "execution_count": 28,
     "metadata": {},
     "output_type": "execute_result"
    }
   ],
   "source": [
    "sample_submission = pd.read_csv(\n",
    "    \"D:/Freelancer Projects/Kaggle Comp/playground-series-s4e11/sample_submission.csv\"\n",
    ")\n",
    "test_predictions = catboost_model_final.predict(df_test_catboost) ########## delete\n",
    "sample_submission[\"Depression\"] = test_predictions\n",
    "\n",
    "sample_submission.to_csv(\n",
    "    \"D:/Freelancer Projects/Kaggle Comp/playground-series-s4e11/submission_Cat2.csv\",\n",
    "    index=False,\n",
    ")\n",
    "sample_submission.head()"
   ]
  },
  {
   "cell_type": "code",
   "execution_count": null,
   "metadata": {},
   "outputs": [],
   "source": []
  }
 ],
 "metadata": {
  "kaggle": {
   "accelerator": "gpu",
   "dataSources": [
    {
     "databundleVersionId": 9709193,
     "sourceId": 84894,
     "sourceType": "competition"
    },
    {
     "datasetId": 5973228,
     "sourceId": 9755500,
     "sourceType": "datasetVersion"
    }
   ],
   "dockerImageVersionId": 30786,
   "isGpuEnabled": true,
   "isInternetEnabled": false,
   "language": "python",
   "sourceType": "notebook"
  },
  "kernelspec": {
   "display_name": "py310",
   "language": "python",
   "name": "python3"
  },
  "language_info": {
   "codemirror_mode": {
    "name": "ipython",
    "version": 3
   },
   "file_extension": ".py",
   "mimetype": "text/x-python",
   "name": "python",
   "nbconvert_exporter": "python",
   "pygments_lexer": "ipython3",
   "version": "3.10.14"
  }
 },
 "nbformat": 4,
 "nbformat_minor": 4
}
